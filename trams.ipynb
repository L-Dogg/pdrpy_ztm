{
 "cells": [
  {
   "cell_type": "code",
   "execution_count": 49,
   "metadata": {
    "collapsed": false
   },
   "outputs": [
    {
     "data": {
      "text/html": [
       "<iframe id=\"igraph\" scrolling=\"no\" style=\"border:none;\" seamless=\"seamless\" src=\"https://plot.ly/~orgiele/8.embed\" height=\"525px\" width=\"100%\"></iframe>"
      ],
      "text/plain": [
       "<plotly.tools.PlotlyDisplay object>"
      ]
     },
     "execution_count": 49,
     "metadata": {},
     "output_type": "execute_result"
    }
   ],
   "source": [
    "import plotly.plotly as py\n",
    "import plotly.graph_objs as go\n",
    "import pandas as pd\n",
    "\n",
    "py.sign_in('orgiele', '0hLF1CVCaH5sEU0CG9Ah')\n",
    "\n",
    "times = pd.read_csv('data/15-05/trams3-filtered/time-data.csv')\n",
    "means = times.mean()\n",
    "stds = times.std()\n",
    "\n",
    "data = [\n",
    "    go.Bar(\n",
    "        x = list(pd.DataFrame(means).index),\n",
    "        y = means,\n",
    "        error_y=dict(\n",
    "        type='data',\n",
    "        array=stds,\n",
    "        visible=True\n",
    "        )\n",
    "    )]\n",
    "\n",
    "py.iplot(data, filename='basic')\n"
   ]
  }
 ],
 "metadata": {
  "kernelspec": {
   "display_name": "Python 3",
   "language": "python",
   "name": "python3"
  },
  "language_info": {
   "codemirror_mode": {
    "name": "ipython",
    "version": 3
   },
   "file_extension": ".py",
   "mimetype": "text/x-python",
   "name": "python",
   "nbconvert_exporter": "python",
   "pygments_lexer": "ipython3",
   "version": "3.6.0"
  }
 },
 "nbformat": 4,
 "nbformat_minor": 2
}
