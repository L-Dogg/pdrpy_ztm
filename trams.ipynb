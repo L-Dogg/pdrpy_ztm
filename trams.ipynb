{
 "cells": [
  {
   "cell_type": "code",
   "execution_count": 1,
   "metadata": {
    "collapsed": false
   },
   "outputs": [
    {
     "data": {
      "text/html": [
       "<iframe id=\"igraph\" scrolling=\"no\" style=\"border:none;\" seamless=\"seamless\" src=\"https://plot.ly/~orgiele/8.embed\" height=\"525px\" width=\"100%\"></iframe>"
      ],
      "text/plain": [
       "<plotly.tools.PlotlyDisplay object>"
      ]
     },
     "execution_count": 1,
     "metadata": {},
     "output_type": "execute_result"
    }
   ],
   "source": [
    "import plotly.plotly as py\n",
    "import plotly.graph_objs as go\n",
    "import pandas as pd\n",
    "\n",
    "py.sign_in('orgiele', '0hLF1CVCaH5sEU0CG9Ah')\n",
    "\n",
    "times = pd.read_csv('data/15-05/trams3-filtered/time-data.csv')\n",
    "times = times.reindex_axis(times.mean().sort_values().index, axis=1)\n",
    "means = times.mean()\n",
    "stds = times.std()\n",
    "\n",
    "timetable_times = [21, 17, 16, 20, 29, 29]\n",
    "\n",
    "trace1 = go.Bar(\n",
    "        x = list(pd.DataFrame(means).index),\n",
    "        y = means,\n",
    "        name = \"Średni czas przejazdu\",\n",
    "        error_y=dict(\n",
    "            type='data',\n",
    "            array=stds,\n",
    "            visible=True\n",
    "        )\n",
    "    )\n",
    "\n",
    "trace2 = go.Bar(\n",
    "        x = list(pd.DataFrame(means).index),\n",
    "        name = \"Czas przejazdu wg ZTM\",\n",
    "        y = timetable_times,\n",
    "    )\n",
    "\n",
    "data = [trace1, trace2]\n",
    "layout = go.Layout(\n",
    "    title='Czas dojazdu tramwajem na Dworzec Centralny z wybranych dzielnic',\n",
    "    barmode='group'\n",
    ")\n",
    "fig = go.Figure(data = data, layout = layout)\n",
    "py.iplot(fig, filename='basic')\n"
   ]
  },
  {
   "cell_type": "code",
   "execution_count": 8,
   "metadata": {
    "collapsed": false
   },
   "outputs": [
    {
     "data": {
      "text/html": [
       "<iframe id=\"igraph\" scrolling=\"no\" style=\"border:none;\" seamless=\"seamless\" src=\"https://plot.ly/~orgiele/8.embed\" height=\"525px\" width=\"100%\"></iframe>"
      ],
      "text/plain": [
       "<plotly.tools.PlotlyDisplay object>"
      ]
     },
     "execution_count": 8,
     "metadata": {},
     "output_type": "execute_result"
    }
   ],
   "source": [
    "df = pd.read_json(\"data/23-05/trams_lowfloor-filtered.json\")\n",
    "hours = [7, 8, 9, 10, 11, 12]\n",
    "percentages = []\n",
    "for h in hours:\n",
    "    tmp = df[df.Hour == h]\n",
    "    n = tmp.shape[0]\n",
    "    m = tmp[tmp.LowFloor == True].shape[0]\n",
    "    percentages.append(m/n)\n",
    "    \n",
    "trace = go.Scatter(\n",
    "    y = percentages,\n",
    "    x = hours,\n",
    "    line = dict(dash = 'dot')\n",
    ")\n",
    "\n",
    "data = [trace]\n",
    "layout = go.Layout(\n",
    "    title='Odsetek tramwajów niskopodłogowych we wszystkich przejazdach w ciągu danej godziny',\n",
    ")\n",
    "fig = go.Figure(data = data, layout = layout)\n",
    "py.iplot(fig, filename='basic')"
   ]
  }
 ],
 "metadata": {
  "kernelspec": {
   "display_name": "Python 3",
   "language": "python",
   "name": "python3"
  },
  "language_info": {
   "codemirror_mode": {
    "name": "ipython",
    "version": 3
   },
   "file_extension": ".py",
   "mimetype": "text/x-python",
   "name": "python",
   "nbconvert_exporter": "python",
   "pygments_lexer": "ipython3",
   "version": "3.6.0"
  }
 },
 "nbformat": 4,
 "nbformat_minor": 2
}
