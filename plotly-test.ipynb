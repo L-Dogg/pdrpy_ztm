{
 "cells": [
  {
   "cell_type": "code",
   "execution_count": 3,
   "metadata": {
    "collapsed": true
   },
   "outputs": [],
   "source": [
    "import plotly.plotly as py\n",
    "import pandas as pd"
   ]
  },
  {
   "cell_type": "code",
   "execution_count": 4,
   "metadata": {
    "collapsed": true
   },
   "outputs": [],
   "source": [
    "py.sign_in('orgiele', '0hLF1CVCaH5sEU0CG9Ah')"
   ]
  },
  {
   "cell_type": "code",
   "execution_count": 10,
   "metadata": {
    "collapsed": false
   },
   "outputs": [],
   "source": [
    "df = pd.read_json('file:data\\\\14-05\\\\buses2-zone-filtered.json')"
   ]
  },
  {
   "cell_type": "code",
   "execution_count": 21,
   "metadata": {
    "collapsed": false,
    "scrolled": false
   },
   "outputs": [
    {
     "ename": "SyntaxError",
     "evalue": "invalid syntax (<ipython-input-21-d238a48de599>, line 16)",
     "output_type": "error",
     "traceback": [
      "\u001b[0;36m  File \u001b[0;32m\"<ipython-input-21-d238a48de599>\"\u001b[0;36m, line \u001b[0;32m16\u001b[0m\n\u001b[0;31m    color=df'Lines']\u001b[0m\n\u001b[0m                  ^\u001b[0m\n\u001b[0;31mSyntaxError\u001b[0m\u001b[0;31m:\u001b[0m invalid syntax\n"
     ]
    }
   ],
   "source": [
    "from plotly.graph_objs import *\n",
    "\n",
    "mapbox_access_token = 'pk.eyJ1Ijoib3JnaWVsZSIsImEiOiJjajJ4azAyYnkwMHZ4MnFxbm41d3JocHlzIn0.GDMQKR_XxQIZtPX8dq6K4g'\n",
    "\n",
    "df = pd.DataFrame.drop_duplicates(df)\n",
    "\n",
    "data = Data([\n",
    "    Scattermapbox(\n",
    "        lat=df['Lat'],\n",
    "        lon=df['Lon'],\n",
    "        mode='markers',\n",
    "        hoverinfo='text',\n",
    "        marker=Marker(\n",
    "            size=5,\n",
    "            opacity=0.7,\n",
    "            color=df'Lines']\n",
    "        ),\n",
    "        text=df['Lines']\n",
    "    )\n",
    "])\n",
    "\n",
    "layout = Layout(\n",
    "    autosize=True,\n",
    "    hovermode='closest',\n",
    "    mapbox=dict(\n",
    "        accesstoken=mapbox_access_token,\n",
    "        bearing=0,\n",
    "        center=dict(\n",
    "            lat=52.228626,\n",
    "            lon=21.005654\n",
    "        ),\n",
    "        pitch=0,\n",
    "        zoom=8\n",
    "    ),\n",
    ")\n",
    "\n",
    "fig = dict(data=data, layout=layout)\n",
    "#py.iplot(fig, filename='Warsaw Mapbox')\n",
    "py.image.save_as(fig, filename='buses2-zone-filetered.png')\n",
    "from IPython.display import Image\n",
    "Image('buses2-zone-filetered.png')"
   ]
  }
 ],
 "metadata": {
  "kernelspec": {
   "display_name": "Python 3",
   "language": "python",
   "name": "python3"
  }
 },
 "nbformat": 4,
 "nbformat_minor": 2
}
