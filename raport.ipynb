{
 "cells": [
  {
   "cell_type": "markdown",
   "metadata": {},
   "source": [
    "# Przetwarzanie danych w językach R i Python - praca domowa 4"
   ]
  },
  {
   "cell_type": "markdown",
   "metadata": {},
   "source": [
    "*Szymon Adach *           \n",
    "*Jacek Dziwulski*\n",
    "\n",
    "24 maj 2017"
   ]
  },
  {
   "cell_type": "markdown",
   "metadata": {},
   "source": [
    "# Wstęp"
   ]
  },
  {
   "cell_type": "code",
   "execution_count": 2,
   "metadata": {
    "collapsed": true
   },
   "outputs": [],
   "source": [
    "#placeholder"
   ]
  },
  {
   "cell_type": "markdown",
   "metadata": {},
   "source": [
    "# Tramwaje"
   ]
  },
  {
   "cell_type": "code",
   "execution_count": 3,
   "metadata": {
    "collapsed": true
   },
   "outputs": [],
   "source": [
    "#placeholder"
   ]
  },
  {
   "cell_type": "markdown",
   "metadata": {},
   "source": [
    "# Autobusy"
   ]
  },
  {
   "cell_type": "markdown",
   "metadata": {},
   "source": [
    "Zebrane dane na temat ruchu autobusów pochodzą z 14 (noc i dzień) oraz 15 maja 2017 roku. Dostępne informacje \n",
    "dotyczące autobusów to:\n",
    "\n",
    "* położenie geograficzne\n",
    "* czas, w którym zarejestrowano daną pozycję\n",
    "* numer linii\n",
    "* numer brygady\n",
    "\n",
    "Na podstawie numeru linii i brygady można jednoznacznie zidentyfikować dany autobus - w danym momencie porusza się tylko jeden autobus konkretnej linii z danym symbolem brygady. \n",
    "\n",
    "Autobusy możemy podzielić na pewne kategorie, które później posłużą do analizy ich ruchu. Te kategorie to:\n",
    "\n",
    "* linie zwykłe (102 - 262)\n",
    "* linie zwykłe okresowe (300 - 397)\n",
    "* linie przyspieszone (500 - 527)\n",
    "* linie przyspieszone okresowe (401 - 414)\n",
    "* linie strefowe (700 - 743)\n",
    "* linie strefowe uzupełniające (L-1 - L40)\n",
    "* linie strefowe okresowe (800)\n",
    "* linie ekspresowe (E-1 - E-9)\n",
    "* linie nocne (N01 - N95)\n",
    "* linie specjalne (900)\n",
    "\n",
    "Dane otrzymane z API zostały wstępnie przefiltrowane, aby odrzucić różne błędy (jak np. zła pozycja pojazdu, lub nie poprawna data). Następnie zostały pogrupowane według powyższych kategorii. Dodatkowo, osobno pogrupowane zostały dane dla każdego konkretnego pojazdu (identyfikowanego przez parę numer linii, symbol brygady). Pozwoli to na wyznaczenie dystansu pokonywanego przez autobusy w wybranem okresie czasu, a także na wyznaczenie średniej prędkości każdej linii.\n",
    " \n",
    "Pozycje autobusów z każdej z powyższych grup możemy przedstawić na mapie, która pokaże jaki obszar pokrywają. Na początek rozważmy zdecydowanie najliczniejszą grupę - linie zwykłe.\n",
    "\n",
    "## Linie zwykłe\n",
    "\n",
    "<img src=\"data\\14-05\\buses-normal14-filtered.png\"/>\n",
    "\n",
    "<center style=\"padding-top:10px\">Rysunek x: Trasa przebyta przez autobusy zwykłe 14 maja 2017 roku.</center>\n",
    "\n",
    "<img src=\"data\\15-05\\buses-normal15-filtered.png\"/>\n",
    "\n",
    "<center style=\"padding-top:10px\">Rysunek x: Trasa przebyta przez autobusy zwykłe 15 maja 2017 roku.</center>\n"
   ]
  },
  {
   "cell_type": "markdown",
   "metadata": {},
   "source": [
    "Pokonane trasy wyglądają bardzo podobnie. Warto zwrócić uwagę na jeden istotny fakt - 14 maj to niedziela, natomast 15 maj to poniedziałek. Na powyższych mapach można zauważyć, że niektóre linie nie kursują w weekendy, lub mają zmienioną trasę. Na przykład, na mapie z 15 maja możemy zaobserwować żółtą linię w okolicach Zielonki (prawy górny róg mapy), której nie ma na mapie z 14 maja. Podobnie w okolicach Bielawy (prawy dolny róg mapy), pojawia się zielona linia, której nie było w weekend.\n",
    "Ponadto, warto zauważyć, że wiekszość tych linii jeździ w Warszawie i jej centrum, a tylko nieliczne kursują do miast należących do aglomeracji warszawskiej."
   ]
  },
  {
   "cell_type": "markdown",
   "metadata": {},
   "source": [
    "Następnie sprawdźmy, po jakich obszarach jeżdżą autobusy strefowe, które w przeciwieństwie do zwykłych, powinny częściej kursować do okolicznych miejscowości.\n",
    "\n",
    "## Linie strefowe\n",
    "\n",
    "<img src=\"data\\14-05\\buses-zone14-filtered.png\"/>\n",
    "\n",
    "<center style=\"padding-top:10px\">Rysunek x: Trasa przebyta przez autobusy strefowe 14 maja 2017 roku.</center>\n",
    "\n",
    "<img src=\"data\\15-05\\buses-zone15-filtered.png\"/>\n",
    "\n",
    "<center style=\"padding-top:10px\">Rysunek x: Trasa przebyta przez autobusy strefowe 15 maja 2017 roku.</center>\n"
   ]
  },
  {
   "cell_type": "markdown",
   "metadata": {},
   "source": [
    "Tak jak przewidywaliśmy, autobusy strefowe raczej nie kursują w centrum Warszawy. Ich głównym zadaniem jest przywożenie \n",
    "i odwożenie ludzi z okolicznych miejscowości do Warszawy, a żeby dotrzeć do dokładniejszego celu należy się przesiadać."
   ]
  },
  {
   "cell_type": "markdown",
   "metadata": {},
   "source": [
    "## Linie przyspieszone\n",
    "\n",
    "<img src=\"data\\14-05\\buses-fast14-filtered.png\"/>\n",
    "\n",
    "<center> Rysunek x: Trasa przebyta przez autobusy przespieszone 14 maja 2017 roku.\n",
    "\n",
    "<img src=\"data\\15-05\\buses-fast15-filtered.png\"/>\n",
    "\n",
    "<center> Rysunek x: Trasa przebyta przez autobusy przespieszone 15 maja 2017 roku."
   ]
  },
  {
   "cell_type": "markdown",
   "metadata": {},
   "source": [
    "Podobnie jak w przypadku linii zwykłych, można zauważyć linie, które nie kursowały w weekend, lub miały zmienioną trasę. Warto zwrócić uwagę na długość tras pokonywanych przez pojedyncze autobusy. Kursują one po liniach zdecydowanie dłuższych niż autobusy zwykłe, dlatego muszą jeździć szybciej, co można osiągnąć na przykład przez mniejsze zagęszczenie przystanków na trasie autobusu."
   ]
  },
  {
   "cell_type": "markdown",
   "metadata": {},
   "source": [
    "## Linie przyspieszone okresowe"
   ]
  },
  {
   "cell_type": "markdown",
   "metadata": {},
   "source": [
    "<img src=\"data\\14-05\\buses-fast-periodic14-filtered.png\" />\n",
    "\n",
    "<center style=\"padding-top:10px\"> Rysunek x: Trasa przebyta przez autobusy przespieszone okresowe 14 maja 2017 roku. </center>\n",
    "\n",
    "<img src=\"data\\15-05\\buses-fast-periodic15-filtered.png\" />\n",
    "\n",
    "<center style=\"padding-top:10px\"> Rysunek x: Trasa przebyta przez autobusy przespieszone okresowe 15 maja 2017 roku. </center>"
   ]
  },
  {
   "cell_type": "markdown",
   "metadata": {},
   "source": [
    "Podobnie jak autobusy przyspieszone, autobusy przyspieszone okresowe również kursują po dłuższych trasach. Tych linii jest jednak zdecydowanie mniej, zwłaszcza w weekend, gdzie możemy zaoobserwować tylko jedną taką linię. "
   ]
  },
  {
   "cell_type": "markdown",
   "metadata": {},
   "source": [
    "## Linie nocne"
   ]
  },
  {
   "cell_type": "markdown",
   "metadata": {},
   "source": [
    "<img src=\"data\\14-05\\buses-night14-filtered.png\" />\n",
    "\n",
    "<center style=\"padding-top:10px\">Rysunek x: Trasa przebyta przez autobusy nocne 14 maja 2017 roku."
   ]
  },
  {
   "cell_type": "markdown",
   "metadata": {},
   "source": [
    "Autobusy nocne również pokonują długie trasy, ale kursują rzadziej niż zwykłe. Warto zauważyć, że większość z tych linii przejeżdża przez centrum Warszawy, oraz kończy swoją trasę w okolicznych miejscowościach. Oczywiście w tym przypadku krótkie trasy nie mają sensu. W nocy komunikacją miejską porusza się zdecydowanie mniej osób, więc nie trzeba tworzyć krótkich tras, kursujących często, aby zabrać wszystkich zainteresowanych. Zazwyczaj, autobusy tych linii zabierają mniej ludzi na pojedynczych przystankach, ale pokrywają zdecydowanie większy obszar od autobusów dziennych."
   ]
  }
 ],
 "metadata": {
  "kernelspec": {
   "display_name": "Python 3",
   "language": "python",
   "name": "python3"
  },
  "language_info": {
   "codemirror_mode": {
    "name": "ipython",
    "version": 3
   },
   "file_extension": ".py",
   "mimetype": "text/x-python",
   "name": "python",
   "nbconvert_exporter": "python",
   "pygments_lexer": "ipython3",
   "version": "3.6.0"
  }
 },
 "nbformat": 4,
 "nbformat_minor": 2
}
