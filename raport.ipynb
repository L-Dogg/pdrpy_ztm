{
 "cells": [
  {
   "cell_type": "markdown",
   "metadata": {},
   "source": [
    "# Przetwarzanie danych w językach R i Python - praca domowa 4"
   ]
  },
  {
   "cell_type": "code",
   "execution_count": 1,
   "metadata": {
    "collapsed": false
   },
   "outputs": [
    {
     "data": {
      "text/html": [
       "<script>\n",
       "code_show=true; \n",
       "function code_toggle() {\n",
       " if (code_show){\n",
       " $('div.input').hide();\n",
       " } else {\n",
       " $('div.input').show();\n",
       " }\n",
       " code_show = !code_show\n",
       "} \n",
       "$( document ).ready(code_toggle);\n",
       "</script>\n",
       "<center><form action=\"javascript:code_toggle()\"><input type=\"submit\" value=\"Click here to toggle on/off the raw code.\"></form><c/enter>"
      ],
      "text/plain": [
       "<IPython.core.display.HTML object>"
      ]
     },
     "execution_count": 1,
     "metadata": {},
     "output_type": "execute_result"
    }
   ],
   "source": [
    "from IPython.display import HTML\n",
    "\n",
    "HTML('''<script>\n",
    "code_show=true; \n",
    "function code_toggle() {\n",
    " if (code_show){\n",
    " $('div.input').hide();\n",
    " } else {\n",
    " $('div.input').show();\n",
    " }\n",
    " code_show = !code_show\n",
    "} \n",
    "$( document ).ready(code_toggle);\n",
    "</script>\n",
    "<center><form action=\"javascript:code_toggle()\"><input type=\"submit\" value=\"Click here to toggle on/off the raw code.\"></form><c/enter>''')"
   ]
  },
  {
   "cell_type": "markdown",
   "metadata": {},
   "source": [
    "*Szymon Adach *           \n",
    "*Jacek Dziwulski*\n",
    "\n",
    "24 maj 2017"
   ]
  },
  {
   "cell_type": "code",
   "execution_count": 2,
   "metadata": {
    "collapsed": true
   },
   "outputs": [],
   "source": [
    "import plotly.plotly as py\n",
    "import plotly.graph_objs as go\n",
    "import pandas as pd\n",
    "py.sign_in('orgiele', '0hLF1CVCaH5sEU0CG9Ah')"
   ]
  },
  {
   "cell_type": "markdown",
   "metadata": {},
   "source": [
    "# Wstęp"
   ]
  },
  {
   "cell_type": "markdown",
   "metadata": {
    "collapsed": true
   },
   "source": [
    "Zadanie polegało na zebraniu danych, dostępnych poprzed odpowiednie endpointy, których szczegóły można znaleźć na stronie https://api.um.warszawa.pl/. Dane te dotyczą ruchu tramwajów oraz autobusów w Warszawie. Do zbierania tych danych, utworzony został specjalny skrypt w języku Python, który co wyznaczony czas pobierał dane z API, oraz zapisywał je do pliku. Jego implementacja znajduje się poniżej.\n",
    "\n",
    "```python\n",
    "import time\n",
    "import helpers\n",
    "from Lines import VehicleType\n",
    "import datetime\n",
    "import os\n",
    "\n",
    "TIMEOUT = 10.0  # Ten seconds\n",
    "\n",
    "MEGABYTE = 1024 * 1024\n",
    "MAX_FILE_SIZE = 2 * 4096 * MEGABYTE #8GB\n",
    "\n",
    "bus_file_name = \"buses3.json\"\n",
    "tram_file_name = \"trams3.json\"\n",
    "\n",
    "def saveJsonToFile(tramfile, busfile):\n",
    "    starttime = time.time()\n",
    "    tramfile.write(\"{\\n\\\"results\\\": [\")\n",
    "    busfile.write(\"{\\n\\\"results\\\": [\")\n",
    "\n",
    "    bus_file_size = 0\n",
    "    tram_file_size = 0\n",
    "\n",
    "    while bus_file_size < MAX_FILE_SIZE and tram_file_size < MAX_FILE_SIZE:\n",
    "        try:\n",
    "            result = helpers.get_active_vehicles(VehicleType.Bus).strip().strip('[').strip(']')\n",
    "            busfile.write(\"{},\\n\".format(result))\n",
    "\n",
    "            result = helpers.get_active_vehicles(VehicleType.Tram).strip().strip('[').strip(']')\n",
    "            tramfile.write(\"{},\\n\".format(result))\n",
    "\n",
    "            print(\"Saved another chunk to file\")\n",
    "            time.sleep(TIMEOUT - ((time.time() - starttime) % TIMEOUT))\n",
    "\n",
    "            bus_file_size = os.stat(bus_file_name).st_size\n",
    "            tram_file_size = os.stat(tram_file_name).st_size\n",
    "        except KeyboardInterrupt:\n",
    "            tramfile.write(\"\\n ]}\")\n",
    "            busfile.write(\"\\n ]}\")\n",
    "            return\n",
    "\n",
    "\n",
    "if __name__ == \"__main__\":\n",
    "    print(\"Starting bot.\")\n",
    "    today_string = datetime.datetime.now().strftime('%x')\n",
    "    with open(tram_file_name, \"w\") as tram_output, open(bus_file_name, \"w\") as bus_output:\n",
    "        saveJsonToFile(tram_output, bus_output)\n",
    "\n",
    "```\n",
    "\n",
    "Dodatkowo, należało skorzystać z historycznych danych udostępnionych przez prowadzącego, z 21, 22 oraz 23 marca 2016 roku. Te dane dotyczyły wyłącznie tramwajów, ponieważ dane dotyczące autobusów mogły jeszcze nie być dostępne.\n",
    "\n",
    "Na podstawie tych danych, należało dojść do interesujących wyników, ze szczególnym uwzględnieniem przedstawienia zebranych danych w postaci map. Duża część wstępnej obróbki danych została wykonana w języku R. Niektóre z wykresów również zostały wykonane w R, ponieważ wykorzystywana biblioteka do rysowania wykresów w Pythonie miała problem z dużą ilością danych.\n",
    "\n",
    "Główną część analizy stanowią mapy, na których przedstawiony został ruch pojazdów w zależności od różnych czynników. Dodatkowo, w przypadku tramwajów, oszacowany został średni czas dojazdu do centrum Warszawy z wybranych dzielnic, a następnie został on porównany z wartościami podanymi przez ZTM. Dla autobusów, obliczony został całkowity dystans pokonany przez pojazdy w ciągu wybranych okresów czasu, co pozwoliło na oszacowanie kosztów utrzymania komunikacji miejskiej."
   ]
  },
  {
   "cell_type": "markdown",
   "metadata": {},
   "source": [
    "# Tramwaje"
   ]
  },
  {
   "cell_type": "markdown",
   "metadata": {
    "collapsed": true
   },
   "source": [
    "Do analizy ruchu tramwajów w Warszawie wykorzystano dane zebrane przez naszego bota w niedzielę 14. maja oraz poniedziałek 15. maja. Wybrano te dwa dni, aby możliwe było sprawdzenie różnic w kursowaniu tramwajów w weekend oraz dzień powszedni. Ponadto analizie poddano dane z dwóch dni marca 2016 roku, dostarczone przez prowadzącego.\n",
    "\n",
    "Dane zbierane były z dwóch endpointów API udostępnianego przez ZTM. Zaletą pierwszego endpointu był kilkukrotnie mniejszy czas między aktualizacją danych o położeniu, z kolei drugi posiadał informację logiczną o tym, czy dany tramwaj jest niskopodłogowy.\n",
    "\n",
    "Dane po pobraniu zostały poddane obróbce, która usunęła z ramek danych pojazdy o  niepoprawnej geolokacji lub błędnej dacie."
   ]
  },
  {
   "cell_type": "markdown",
   "metadata": {},
   "source": [
    "## Sieć tramwajowa\n",
    "\n",
    "<img src=\"data\\14-05\\trams-14-filtered.png\"/>\n",
    "<center style=\"padding-top:10px\">Rysunek x: Sieć tramwajowa Warszawy, na podstawie danych z 14.05.2017 (weekend).</center>    \n",
    "<img src=\"data\\15-05\\trams-15-filtered.png\"/>\n",
    "<center style=\"padding-top:10px\">Rysunek x: Sieć tramwajowa Warszawy, na podstawie danych z 15.05.2017 (dzień powszedni).</center>\n",
    "\n",
    "Widoczna jest asymetria sieci tramwajowej - jest ona znacznie gęstsza w lewobrzeżnej części miasta. Oczywistym powodem jest trudność w \"przeprawie\" tramwajów przez Wisłę. Aktualnie realizowana jest ona przez następujące mosty:\n",
    "\n",
    "<div class=\"datagrid\">\n",
    "<table>\n",
    "<thead>\n",
    "    <tr><th>Nazwa mostu</th><th>Liczba torów tramwajowych</th>\n",
    "</thead>\n",
    "<tbody>\n",
    "    <tr><td>Most Poniatowskiego</td><td>2</td></tr>\n",
    "    <tr><td>Most Gdański</td><td>2</td></tr>\n",
    "    <tr><td>Most Śląsko-Dąbrowski</td><td>2N → 2</td></tr>    \n",
    "    <tr><td>Most Świętokrzyski</td><td>0(2)</td></tr>\n",
    "    <tr><td>Most Północny</td><td>(2)</td></tr>\n",
    "</tbody>\n",
    "</table>\n",
    "</div>\n",
    "\n",
    "* W nawiasach przedstawiono ilość planowanych pasów ruchu.\n",
    "* Strzałkami oznaczono kolejne zmiany ilości pasów.\n",
    "* Literą N oznaczono pasy niewydzielone, tj. tory tramwajowe niewydzielone z jezdni lub drogi rowerowe niewydzielone z chodnika.\n",
    "\n",
    "Dane za: [Wikipedia](https://pl.wikipedia.org/wiki/Mosty_w_Warszawie)\n",
    "\n",
    "Powyższe mapy można skonfrontować z dostępną na Wikipedii mapą sieci tramwajowej stolicy sprzed roku 1939:\n",
    "<img src=\"historical_tram_map.png\" width=50% />\n",
    "\n",
    "## Punkty krytyczne sieci tramwajowej\n",
    "\n",
    "Do wyznaczenia krytycznych punktów sieci tramwajowej posłużyliśmy się heatmapami:"
   ]
  },
  {
   "cell_type": "code",
   "execution_count": 24,
   "metadata": {
    "collapsed": false,
    "scrolled": true
   },
   "outputs": [
    {
     "data": {
      "text/html": [
       "<table><tr><td><img src='data/14-05/trams-heatmap.png'/></td><td><img src='data/15-05/trams-heatmap.png'/></td></tr></table>"
      ],
      "text/plain": [
       "<IPython.core.display.HTML object>"
      ]
     },
     "metadata": {},
     "output_type": "display_data"
    }
   ],
   "source": [
    "from IPython.display import HTML, display\n",
    "display(HTML(\n",
    "    \"<table><tr><td><img src='data/14-05/trams-heatmap.png'/>\"+\n",
    "    \"</td><td><img src='data/15-05/trams-heatmap.png'/></td></tr></table>\"))"
   ]
  },
  {
   "cell_type": "markdown",
   "metadata": {},
   "source": [
    "<center>Rysunek x: Po lewej heatmapa dla 14.05.2017 (niedziela), po prawej dla 15.05.2017 (poniedziałek)</center>\n",
    "\n",
    "Krytycznymi punktami są z pewnością przystanki Dworzec Centralny, Centrum oraz przystanki w ich okolicy.  \n",
    "Zauważyć należy również stosunkowo zwiększone natężenie ruchu na Ochocie, w okolicy skrzyżowania ulic Bitwy Warszawskiej 1920r. oraz Banacha, gdzie spotykają się linie obsługiwane przez zajezdnię na Okęciu oraz zajezdnię przy Banacha.   Natężenie stopniowo spada aż do Placu Zawiszy, gdzie część tramwajów jedzie na wschód w kierunku Centrum, a pozostałe na północ.  \n",
    "Innym ważnym punktem na tramwajowej mapie Warszawy jest Rondo \"Radosława\", gdzie znajduje się istotny punkt przesiadkowy w stronę Pragi i regularnie kursuje aż 8 linii tramwajowych.\n",
    "Po lewej stronie Wisły najistotniejsze wydają się przystanki przy Stadionie Narodowym.\n",
    "Oczywistym faktem jest, że szczególnie wyróżniają się na mapach zajezdnie tramwajowe.\n",
    "\n",
    "Jeśli chodzi o różnice pomiędzy heatmapą z niedzieli a heatmapą z poniedziałku, to (poza ogólnie większym natężeniem ruchu) zaobserwować można zwiększenie znaczenia zajezdni Mokotów przy skrzyżowaniu Woronicza i Wołoskiej, a także istotne zwiększenie częstości kursowania w kierunku Żoliborza i Bielan."
   ]
  },
  {
   "cell_type": "markdown",
   "metadata": {},
   "source": [
    "## Czasy dojazdu"
   ]
  },
  {
   "cell_type": "code",
   "execution_count": 3,
   "metadata": {
    "collapsed": false,
    "scrolled": true
   },
   "outputs": [
    {
     "data": {
      "text/html": [
       "<iframe id=\"igraph\" scrolling=\"no\" style=\"border:none;\" seamless=\"seamless\" src=\"https://plot.ly/~orgiele/8.embed\" height=\"525px\" width=\"100%\"></iframe>"
      ],
      "text/plain": [
       "<plotly.tools.PlotlyDisplay object>"
      ]
     },
     "execution_count": 3,
     "metadata": {},
     "output_type": "execute_result"
    }
   ],
   "source": [
    "times = pd.read_csv('data/15-05/trams3-filtered/time-data.csv')\n",
    "times = times.reindex_axis(times.mean().sort_values().index, axis=1)\n",
    "means = times.mean()\n",
    "stds = times.std()\n",
    "\n",
    "timetable_times = [21, 17, 16, 20, 29, 29]\n",
    "\n",
    "trace1 = go.Bar(\n",
    "        x = list(pd.DataFrame(means).index),\n",
    "        y = means,\n",
    "        name = \"Średni czas przejazdu\",\n",
    "        error_y=dict(\n",
    "            type='data',\n",
    "            array=stds,\n",
    "            visible=True\n",
    "        )\n",
    "    )\n",
    "\n",
    "trace2 = go.Bar(\n",
    "        x = list(pd.DataFrame(means).index),\n",
    "        name = \"Czas przejazdu wg ZTM\",\n",
    "        y = timetable_times,\n",
    "    )\n",
    "\n",
    "data = [trace1, trace2]\n",
    "layout = go.Layout(\n",
    "    title='Czas dojazdu tramwajem na Dworzec Centralny z wybranych dzielnic w godzinach szczytu',\n",
    "    barmode='group',\n",
    "        xaxis=dict(\n",
    "        title='Dzielnica'\n",
    "    ),\n",
    "    yaxis=dict(\n",
    "        title='Czas [min]'\n",
    "    )\n",
    ")\n",
    "fig = go.Figure(data = data, layout = layout)\n",
    "py.iplot(fig, filename='basic')\n"
   ]
  },
  {
   "cell_type": "markdown",
   "metadata": {},
   "source": [
    "<center style=\"padding-top:10px\">Rysunek x: Wykres zależności czasu dojazdu od dzielnicy, poniedziałek 15.05.2017</center>"
   ]
  },
  {
   "cell_type": "markdown",
   "metadata": {},
   "source": [
    "W celu utworzenia powyższego wykresu, rozważyliśmy najważniejsze przystanki z każdej dzielnicy i wybraliśmy dla każdej dzielnicy po jednym - takim, aby w przybliżeniu odegłości od przystanku docelowego były równe. Za docelowy przystanek uznaliśmy Dworzec Centralny. Z wyborem tym można polemizować, gdyż w większości powyższych dzielnic znajdują się punkty przesiadkowe, np. stacje kolei miejskiej lub metra, jednak nasz wybór znacząco ułatwia analizę.\n",
    "\n",
    "Zaobserwować można rozbieżności rzędu 2-3 minut między rozkładowymi czasami przejazdów, a czasami zmierzonymi. Ciekawym przypadkiem jest Ochota, dla której odchylenie standardowe osiąga wartość ponad 6 minut, co stanowi ponad 30% całkowitego czasu przejazdu. Prawdopodobnie wiąże się to z trasą linii kursujących na tym odcinku - muszą one przeciąć dwa ruchliwe węzły w okolicy ul. Bitwy Warszawskiej 1920 r. i Placu Zawiszy. W pesymistycznym przypadku cykle sygnalizacji drogowej mogą tam mieć stosunkowo duży wpływ na ewentualne opóźnienia.\n",
    "\n",
    "Należy także pamiętać, że wykres ten nie prezentuje optymalnego czasu dojazdu, gdyż często wykorzystanie **tylko** tramwaju jest wolniejsze niż np. podróż metrem."
   ]
  },
  {
   "cell_type": "code",
   "execution_count": 4,
   "metadata": {
    "collapsed": false,
    "scrolled": true
   },
   "outputs": [
    {
     "data": {
      "text/html": [
       "<iframe id=\"igraph\" scrolling=\"no\" style=\"border:none;\" seamless=\"seamless\" src=\"https://plot.ly/~orgiele/8.embed\" height=\"525px\" width=\"100%\"></iframe>"
      ],
      "text/plain": [
       "<plotly.tools.PlotlyDisplay object>"
      ]
     },
     "execution_count": 4,
     "metadata": {},
     "output_type": "execute_result"
    }
   ],
   "source": [
    "df = pd.read_csv(\"data/23-05/tram-counts.csv\")\n",
    "\n",
    "total_count = df['All']\n",
    "lowfloor = df['Lowfloor']\n",
    "hours = [7, 8, 9, 10, 11, 12]\n",
    "    \n",
    "trace1 = {\n",
    "    'y': lowfloor,\n",
    "    'x': hours,\n",
    "    'name': 'Liczba niskopodłogowych',\n",
    "    'type': 'bar'\n",
    "}\n",
    "trace2 = {\n",
    "    'y': total_count,\n",
    "    'x': hours,\n",
    "    'name':'Całkowita liczba przejazdów',\n",
    "    'type': 'bar'\n",
    "}\n",
    "\n",
    "data = [trace1, trace2]\n",
    "layout = {\n",
    "    'title': 'Liczba przejazdów i liczba przejazdów tramwajami niskopodłogowymi we wszystkich przejazdach w ciągu danej godziny',\n",
    "    'yaxis': {'title':'Liczba niskopodłogowych'},\n",
    "    'barmode': 'relative'\n",
    "}\n",
    "fig = go.Figure(data = data, layout = layout)\n",
    "py.iplot(fig, filename='basic')"
   ]
  },
  {
   "cell_type": "markdown",
   "metadata": {},
   "source": [
    "<center style=\"padding-top:10px\">Całkowita liczba przejazdów podczas danej godziny oraz liczba przejazdów realizowanych składami niskopodłogowymi w tej godzinie</center>"
   ]
  },
  {
   "cell_type": "markdown",
   "metadata": {},
   "source": [
    "Zgodnie z przewidywaniami, liczba przejazdów osiąga wartość maksymalną dla zakresu godzin 8-9, czyli godzin szczytu, kiedy młodzież jeździ do szkół, a dorośli do pracy. W ruchu utrzymywana jest w przybliżeniu podobna liczba pojazdów niskopodłogowych, zatem ich odsetek rośnie, kiedy całkowita liczba przejazdów maleje - z tras usuwane są starsze pojazdy."
   ]
  },
  {
   "cell_type": "code",
   "execution_count": 5,
   "metadata": {
    "collapsed": false
   },
   "outputs": [
    {
     "data": {
      "text/html": [
       "<table border=\"1\" class=\"dataframe\">\n",
       "  <thead>\n",
       "    <tr style=\"text-align: right;\">\n",
       "      <th>Godzina</th>\n",
       "      <th>Odsetek niskopodłogowych</th>\n",
       "    </tr>\n",
       "  </thead>\n",
       "  <tbody>\n",
       "    <tr>\n",
       "      <td>7</td>\n",
       "      <td>55.3</td>\n",
       "    </tr>\n",
       "    <tr>\n",
       "      <td>8</td>\n",
       "      <td>55.4</td>\n",
       "    </tr>\n",
       "    <tr>\n",
       "      <td>9</td>\n",
       "      <td>57.1</td>\n",
       "    </tr>\n",
       "    <tr>\n",
       "      <td>10</td>\n",
       "      <td>62.7</td>\n",
       "    </tr>\n",
       "    <tr>\n",
       "      <td>11</td>\n",
       "      <td>65.7</td>\n",
       "    </tr>\n",
       "    <tr>\n",
       "      <td>12</td>\n",
       "      <td>65.7</td>\n",
       "    </tr>\n",
       "  </tbody>\n",
       "</table>"
      ],
      "text/plain": [
       "<IPython.core.display.HTML object>"
      ]
     },
     "execution_count": 5,
     "metadata": {},
     "output_type": "execute_result"
    }
   ],
   "source": [
    "from IPython.display import display, HTML\n",
    "df = pd.DataFrame({'Godzina': hours, 'Odsetek niskopodłogowych': round(lowfloor / total_count, 3) * 100})\n",
    "HTML(df.to_html(index=False))"
   ]
  },
  {
   "cell_type": "code",
   "execution_count": 33,
   "metadata": {
    "collapsed": false,
    "scrolled": false
   },
   "outputs": [
    {
     "data": {
      "text/html": [
       "<iframe id=\"igraph\" scrolling=\"no\" style=\"border:none;\" seamless=\"seamless\" src=\"https://plot.ly/~orgiele/8.embed\" height=\"525px\" width=\"100%\"></iframe>"
      ],
      "text/plain": [
       "<plotly.tools.PlotlyDisplay object>"
      ]
     },
     "execution_count": 33,
     "metadata": {},
     "output_type": "execute_result"
    }
   ],
   "source": [
    "df = pd.read_csv(\"data/23-05/tram-counts-by-line.csv\")\n",
    "\n",
    "lines = df['Line'][:-1]\n",
    "total_count = df['All'][:-1]\n",
    "lowfloor = df['Lowfloor']\n",
    "    \n",
    "trace1 = {\n",
    "    'y': 100 * (lowfloor / total_count),\n",
    "    'x': lines,\n",
    "    'name': 'Odsetek niskopodłogowych',\n",
    "    'type': 'bar'\n",
    "}\n",
    "\n",
    "data = [trace1]\n",
    "layout = {\n",
    "    'title': 'Odsetek pojazdów niskopodłogowych na danej linii',\n",
    "    'yaxis': {'title':'Odsetek pojazdów niskopodłogowych'},\n",
    "    'xaxis': {'title':'Numer linii'}\n",
    "}\n",
    "fig = go.Figure(data = data, layout = layout)\n",
    "py.iplot(fig, filename='basic')"
   ]
  },
  {
   "cell_type": "markdown",
   "metadata": {},
   "source": [
    "Jak widać, część linii wykorzystuje jedynie pojazdy niskopodłogowe, jednak na najbardziej obleganych trasach, np. 7 lub 9, priorytetem jest duża częstotliwość przejazdów, stąd jedynie około 50% użycie pojazdów niskopodłogowych."
   ]
  },
  {
   "cell_type": "code",
   "execution_count": 6,
   "metadata": {
    "collapsed": false,
    "scrolled": true
   },
   "outputs": [
    {
     "data": {
      "text/html": [
       "<iframe id=\"igraph\" scrolling=\"no\" style=\"border:none;\" seamless=\"seamless\" src=\"https://plot.ly/~orgiele/8.embed\" height=\"525px\" width=\"100%\"></iframe>"
      ],
      "text/plain": [
       "<plotly.tools.PlotlyDisplay object>"
      ]
     },
     "execution_count": 6,
     "metadata": {},
     "output_type": "execute_result"
    }
   ],
   "source": [
    "df = pd.read_csv(\"data/15-05/tram-counts.csv\")\n",
    "\n",
    "trace1 = go.Scatter(\n",
    "    x=df[\"Hour\"][8:],\n",
    "    y=df[\"Count\"][8:],\n",
    "    name='Liczba przejazdów',\n",
    "    line = dict(dash = 'dot'),\n",
    ")\n",
    "\n",
    "data = [trace1]\n",
    "layout = go.Layout(\n",
    "    title='Liczba przejazdów w ciągu godziny',\n",
    "    yaxis=dict(\n",
    "        title='Liczba przejazdów'\n",
    "    ),\n",
    "    xaxis=dict(\n",
    "        title='Godzina'\n",
    "    )\n",
    ")\n",
    "fig = go.Figure(data=data, layout=layout)\n",
    "py.iplot(fig, filename='basic')"
   ]
  },
  {
   "cell_type": "markdown",
   "metadata": {},
   "source": [
    "<center style=\"padding-top:10px\">Rysunek x: Całkowita liczba przejazdów w ciągu godziny</center>\n",
    "\n",
    "Widoczne są godziny szczytu, podczas których ZTM udostępnia nawet o 35% więcej tramwajów niż podczas dziennego minimum o godzinie 11 (minimum wyznaczone po odrzuceniu godzin po 21)."
   ]
  },
  {
   "cell_type": "markdown",
   "metadata": {},
   "source": [
    "# Autobusy"
   ]
  },
  {
   "cell_type": "markdown",
   "metadata": {},
   "source": [
    "Zebrane dane na temat ruchu autobusów pochodzą z 14 (noc i dzień) oraz 15 maja 2017 roku. Dostępne informacje \n",
    "dotyczące autobusów to:\n",
    "\n",
    "* położenie geograficzne\n",
    "* czas, w którym zarejestrowano daną pozycję\n",
    "* numer linii\n",
    "* numer brygady\n",
    "\n",
    "Na podstawie numeru linii i brygady można jednoznacznie zidentyfikować dany autobus - w danym momencie porusza się tylko jeden autobus konkretnej linii z danym symbolem brygady. \n",
    "\n",
    "Autobusy możemy podzielić na pewne kategorie, które później posłużą do analizy ich ruchu. Te kategorie to:\n",
    "\n",
    "* linie zwykłe (102 - 262)\n",
    "* linie zwykłe okresowe (300 - 397)\n",
    "* linie przyspieszone (500 - 527)\n",
    "* linie przyspieszone okresowe (401 - 414)\n",
    "* linie strefowe (700 - 743)\n",
    "* linie strefowe uzupełniające (L-1 - L40)\n",
    "* linie strefowe okresowe (800)\n",
    "* linie ekspresowe (E-1 - E-9)\n",
    "* linie nocne (N01 - N95)\n",
    "* linie specjalne (900)\n",
    "\n",
    "Dane otrzymane z API zostały wstępnie przefiltrowane, aby odrzucić różne błędy (jak np. zła pozycja pojazdu, lub niepoprawna data). Następnie zostały pogrupowane według powyższych kategorii. Dodatkowo, osobno pogrupowane zostały dane dla każdego konkretnego pojazdu (identyfikowanego przez parę numer linii, symbol brygady). Pozwoli to na wyznaczenie dystansu pokonywanego przez autobusy w wybranem okresie czasu, a także na wyznaczenie średniej prędkości każdej linii.\n",
    " \n",
    "Pozycje autobusów z każdej z powyższych grup możemy przedstawić na mapie, która pokaże jaki obszar pokrywają. Na początek rozważmy zdecydowanie najliczniejszą grupę - linie zwykłe.\n",
    "\n",
    "## Linie zwykłe\n",
    "\n",
    "<img src=\"data\\14-05\\buses-normal14-filtered.png\"/>\n",
    "\n",
    "<center style=\"padding-top:10px\">Rysunek x: Trasa przebyta przez autobusy zwykłe 14 maja 2017 roku.</center>\n",
    "\n",
    "<img src=\"data\\15-05\\buses-normal15-filtered.png\"/>\n",
    "\n",
    "<center style=\"padding-top:10px\">Rysunek x: Trasa przebyta przez autobusy zwykłe 15 maja 2017 roku.</center>"
   ]
  },
  {
   "cell_type": "code",
   "execution_count": 7,
   "metadata": {
    "collapsed": false
   },
   "outputs": [
    {
     "data": {
      "text/html": [
       "<table border=\"1\" class=\"dataframe table\">\n",
       "  <thead>\n",
       "    <tr style=\"text-align: right;\">\n",
       "      <th>Dzień</th>\n",
       "      <th>Liczba autobusów</th>\n",
       "    </tr>\n",
       "  </thead>\n",
       "  <tbody>\n",
       "    <tr>\n",
       "      <td>14.05.2017</td>\n",
       "      <td>566</td>\n",
       "    </tr>\n",
       "    <tr>\n",
       "      <td>15.05.2017</td>\n",
       "      <td>935</td>\n",
       "    </tr>\n",
       "  </tbody>\n",
       "</table>"
      ],
      "text/plain": [
       "<IPython.core.display.HTML object>"
      ]
     },
     "execution_count": 7,
     "metadata": {},
     "output_type": "execute_result"
    }
   ],
   "source": [
    "distance = pd.concat([pd.read_json('file:data/14-05/busesNormalCount.json'), \n",
    "                      pd.read_json('file:data/15-05/busesNormalCount.json')])[0].tolist()\n",
    "distance = pd.DataFrame({'Dzień':['14.05.2017', '15.05.2017'], 'Liczba autobusów':distance}, \n",
    "                        columns=['Dzień', 'Liczba autobusów'])\n",
    "HTML(distance.to_html(classes=['table'], index = False))"
   ]
  },
  {
   "cell_type": "markdown",
   "metadata": {},
   "source": [
    "<center style=\"padding-top:10px\">Tabela x: Liczba autobusów linii zwykłych w ruchu w wybranych dniach. </center>"
   ]
  },
  {
   "cell_type": "markdown",
   "metadata": {},
   "source": [
    "Pokonane trasy wyglądają bardzo podobnie. Warto zwrócić uwagę na jeden istotny fakt - 14 maj to niedziela, natomast 15 maj to poniedziałek. Na powyższych mapach można zauważyć, że niektóre linie nie kursują w weekendy, lub mają zmienioną trasę. Na przykład, na mapie z 15 maja możemy zaobserwować żółtą linię w okolicach Zielonki (prawy górny róg mapy), której nie ma na mapie z 14 maja. Podobnie w okolicach Bielawy (prawy dolny róg mapy), pojawia się zielona linia, której nie było w weekend.\n",
    "Ponadto, warto zauważyć, że wiekszość tych linii jeździ w Warszawie i jej centrum, a tylko nieliczne kursują do miast należących do aglomeracji warszawskiej. To samo widać w zamieszczonej tabeli - zdecydowanie więcej autobusów kursuje w dzień powszedni niż w weekend."
   ]
  },
  {
   "cell_type": "markdown",
   "metadata": {},
   "source": [
    "Następnie sprawdźmy, po jakich obszarach jeżdżą autobusy strefowe, które w przeciwieństwie do zwykłych, powinny częściej kursować do okolicznych miejscowości.\n",
    "\n",
    "## Linie strefowe\n",
    "\n",
    "<img src=\"data\\14-05\\buses-zone14-filtered.png\"/>\n",
    "\n",
    "<center style=\"padding-top:10px\">Rysunek x: Trasa przebyta przez autobusy strefowe 14 maja 2017 roku.</center>\n",
    "\n",
    "<img src=\"data\\15-05\\buses-zone15-filtered.png\"/>\n",
    "\n",
    "<center style=\"padding-top:10px\">Rysunek x: Trasa przebyta przez autobusy strefowe 15 maja 2017 roku.</center>"
   ]
  },
  {
   "cell_type": "code",
   "execution_count": 8,
   "metadata": {
    "collapsed": false
   },
   "outputs": [
    {
     "data": {
      "text/html": [
       "<table border=\"1\" class=\"dataframe table\">\n",
       "  <thead>\n",
       "    <tr style=\"text-align: right;\">\n",
       "      <th>Dzień</th>\n",
       "      <th>Liczba autobusów</th>\n",
       "    </tr>\n",
       "  </thead>\n",
       "  <tbody>\n",
       "    <tr>\n",
       "      <td>14.05.2017</td>\n",
       "      <td>88</td>\n",
       "    </tr>\n",
       "    <tr>\n",
       "      <td>15.05.2017</td>\n",
       "      <td>152</td>\n",
       "    </tr>\n",
       "  </tbody>\n",
       "</table>"
      ],
      "text/plain": [
       "<IPython.core.display.HTML object>"
      ]
     },
     "execution_count": 8,
     "metadata": {},
     "output_type": "execute_result"
    }
   ],
   "source": [
    "distance = pd.concat([pd.read_json('file:data/14-05/busesZoneCount.json'), \n",
    "                      pd.read_json('file:data/15-05/busesZoneCount.json')])[0].tolist()\n",
    "distance = pd.DataFrame({'Dzień':['14.05.2017', '15.05.2017'], 'Liczba autobusów':distance}, \n",
    "                        columns=['Dzień', 'Liczba autobusów'])\n",
    "HTML(distance.to_html(classes=['table'], index = False))"
   ]
  },
  {
   "cell_type": "markdown",
   "metadata": {},
   "source": [
    "<center style=\"padding-top:10px\">Tabela x: Liczba autobusów linii strefowych w ruchu w wybranych dniach. </center>"
   ]
  },
  {
   "cell_type": "markdown",
   "metadata": {},
   "source": [
    "Tak jak przewidywaliśmy, autobusy strefowe raczej nie kursują w centrum Warszawy. Ich głównym zadaniem jest przywożenie \n",
    "i odwożenie ludzi z okolicznych miejscowości do Warszawy, a żeby dotrzeć do dokładniejszego celu należy się przesiadać. Podobnie jak w przypadku linii zwykłych, więcej autobusów kursuje w dni powszednie."
   ]
  },
  {
   "cell_type": "markdown",
   "metadata": {},
   "source": [
    "## Linie przyspieszone\n",
    "\n",
    "<img src=\"data\\14-05\\buses-fast14-filtered.png\"/>\n",
    "\n",
    "<center> Rysunek x: Trasa przebyta przez autobusy przespieszone 14 maja 2017 roku. </center>\n",
    "\n",
    "<img src=\"data\\15-05\\buses-fast15-filtered.png\"/>\n",
    "\n",
    "<center> Rysunek x: Trasa przebyta przez autobusy przespieszone 15 maja 2017 roku. </center>"
   ]
  },
  {
   "cell_type": "code",
   "execution_count": 9,
   "metadata": {
    "collapsed": false
   },
   "outputs": [
    {
     "data": {
      "text/html": [
       "<table border=\"1\" class=\"dataframe table\">\n",
       "  <thead>\n",
       "    <tr style=\"text-align: right;\">\n",
       "      <th>Dzień</th>\n",
       "      <th>Liczba autobusów</th>\n",
       "    </tr>\n",
       "  </thead>\n",
       "  <tbody>\n",
       "    <tr>\n",
       "      <td>14.05.2017</td>\n",
       "      <td>142</td>\n",
       "    </tr>\n",
       "    <tr>\n",
       "      <td>15.05.2017</td>\n",
       "      <td>274</td>\n",
       "    </tr>\n",
       "  </tbody>\n",
       "</table>"
      ],
      "text/plain": [
       "<IPython.core.display.HTML object>"
      ]
     },
     "execution_count": 9,
     "metadata": {},
     "output_type": "execute_result"
    }
   ],
   "source": [
    "distance = pd.concat([pd.read_json('file:data/14-05/busesFastCount.json'), \n",
    "                      pd.read_json('file:data/15-05/busesFastCount.json')])[0].tolist()\n",
    "distance = pd.DataFrame({'Dzień':['14.05.2017', '15.05.2017'], 'Liczba autobusów':distance}, \n",
    "                        columns=['Dzień', 'Liczba autobusów'])\n",
    "HTML(distance.to_html(classes=['table'], index = False))"
   ]
  },
  {
   "cell_type": "markdown",
   "metadata": {},
   "source": [
    "<center>Tabela x: Liczba autobusów linii przyspieszonych w ruchu w wybranych dniach. </center>"
   ]
  },
  {
   "cell_type": "markdown",
   "metadata": {},
   "source": [
    "Podobnie jak w przypadku linii zwykłych, można zauważyć linie, które nie kursowały w weekend, lub miały zmienioną trasę. Warto zwrócić uwagę na długość tras pokonywanych przez pojedyncze autobusy. Kursują one po liniach zdecydowanie dłuższych niż autobusy zwykłe, dlatego muszą jeździć szybciej, co można osiągnąć na przykład przez mniejsze zagęszczenie przystanków na trasie autobusu."
   ]
  },
  {
   "cell_type": "markdown",
   "metadata": {},
   "source": [
    "## Linie przyspieszone okresowe"
   ]
  },
  {
   "cell_type": "markdown",
   "metadata": {},
   "source": [
    "<img src=\"data\\14-05\\buses-fast-periodic14-filtered.png\" />\n",
    "\n",
    "<center style=\"padding-top:10px\"> Rysunek x: Trasa przebyta przez autobusy przespieszone okresowe 14 maja 2017 roku. </center>\n",
    "\n",
    "<img src=\"data\\15-05\\buses-fast-periodic15-filtered.png\" />\n",
    "\n",
    "<center style=\"padding-top:10px\"> Rysunek x: Trasa przebyta przez autobusy przespieszone okresowe 15 maja 2017 roku. </center>"
   ]
  },
  {
   "cell_type": "code",
   "execution_count": 10,
   "metadata": {
    "collapsed": false
   },
   "outputs": [
    {
     "data": {
      "text/html": [
       "<table border=\"1\" class=\"dataframe table\">\n",
       "  <thead>\n",
       "    <tr style=\"text-align: right;\">\n",
       "      <th>Dzień</th>\n",
       "      <th>Liczba autobusów</th>\n",
       "    </tr>\n",
       "  </thead>\n",
       "  <tbody>\n",
       "    <tr>\n",
       "      <td>14.05.2017</td>\n",
       "      <td>10</td>\n",
       "    </tr>\n",
       "    <tr>\n",
       "      <td>15.05.2017</td>\n",
       "      <td>75</td>\n",
       "    </tr>\n",
       "  </tbody>\n",
       "</table>"
      ],
      "text/plain": [
       "<IPython.core.display.HTML object>"
      ]
     },
     "execution_count": 10,
     "metadata": {},
     "output_type": "execute_result"
    }
   ],
   "source": [
    "distance = pd.concat([pd.read_json('file:data/14-05/busesFastPeriodicCount.json'), \n",
    "                      pd.read_json('file:data/15-05/busesFastPeriodicCount.json')])[0].tolist()\n",
    "distance = pd.DataFrame({'Dzień':['14.05.2017', '15.05.2017'], 'Liczba autobusów':distance}, \n",
    "                        columns=['Dzień', 'Liczba autobusów'])\n",
    "HTML(distance.to_html(classes=['table'], index = False))"
   ]
  },
  {
   "cell_type": "markdown",
   "metadata": {},
   "source": [
    "<center style=\"padding-top:10px\">Tabela x: Liczba autobusów linii przyspieszonych okresowych w ruchu w wybranych dniach. </center>"
   ]
  },
  {
   "cell_type": "markdown",
   "metadata": {},
   "source": [
    "Podobnie jak autobusy przyspieszone, autobusy przyspieszone okresowe również kursują po dłuższych trasach. Tych linii jest jednak zdecydowanie mniej, zwłaszcza w weekend, kiedy to przez cały dzień, kursowało zaledwie 10 autobusów jednej linii."
   ]
  },
  {
   "cell_type": "markdown",
   "metadata": {},
   "source": [
    "## Linie nocne"
   ]
  },
  {
   "cell_type": "markdown",
   "metadata": {},
   "source": [
    "<img src=\"data\\14-05\\buses-night14-filtered.png\" />\n",
    "\n",
    "<center style=\"padding-top:10px\">Rysunek x: Trasa przebyta przez autobusy nocne 14 maja 2017 roku. </center>"
   ]
  },
  {
   "cell_type": "code",
   "execution_count": 11,
   "metadata": {
    "collapsed": false
   },
   "outputs": [
    {
     "data": {
      "text/html": [
       "<table border=\"1\" class=\"dataframe table\">\n",
       "  <thead>\n",
       "    <tr style=\"text-align: right;\">\n",
       "      <th>Dzień</th>\n",
       "      <th>Liczba autobusów</th>\n",
       "    </tr>\n",
       "  </thead>\n",
       "  <tbody>\n",
       "    <tr>\n",
       "      <td>14.05.2017</td>\n",
       "      <td>151</td>\n",
       "    </tr>\n",
       "  </tbody>\n",
       "</table>"
      ],
      "text/plain": [
       "<IPython.core.display.HTML object>"
      ]
     },
     "execution_count": 11,
     "metadata": {},
     "output_type": "execute_result"
    }
   ],
   "source": [
    "distance = pd.read_json('file:data/14-05/busesNightCount.json')[0].tolist()\n",
    "distance = pd.DataFrame({'Dzień':'14.05.2017', 'Liczba autobusów':distance}, columns=['Dzień', 'Liczba autobusów'])\n",
    "HTML(distance.to_html(classes=['table'], index = False))"
   ]
  },
  {
   "cell_type": "markdown",
   "metadata": {},
   "source": [
    "<center style=\"padding-top:10px\">Tabela x: Liczba autobusów linii nocnych w ruchu w wybranych dniach. </center>"
   ]
  },
  {
   "cell_type": "markdown",
   "metadata": {},
   "source": [
    "Autobusy nocne również pokonują długie trasy, ale kursują rzadziej niż zwykłe. Warto zauważyć, że większość z tych linii przejeżdża przez centrum Warszawy, oraz kończy swoją trasę w okolicznych miejscowościach. Oczywiście w tym przypadku krótkie trasy nie mają sensu. W nocy komunikacją miejską porusza się zdecydowanie mniej osób, więc nie trzeba tworzyć krótkich tras, kursujących często, aby zabrać wszystkich zainteresowanych. Zazwyczaj, autobusy tych linii zabierają mniej ludzi na pojedynczych przystankach, ale pokrywają zdecydowanie większy obszar od autobusów dziennych."
   ]
  },
  {
   "cell_type": "markdown",
   "metadata": {},
   "source": [
    "## Pokonany dystans"
   ]
  },
  {
   "cell_type": "code",
   "execution_count": 12,
   "metadata": {
    "collapsed": false
   },
   "outputs": [
    {
     "data": {
      "text/html": [
       "<iframe id=\"igraph\" scrolling=\"no\" style=\"border:none;\" seamless=\"seamless\" src=\"https://plot.ly/~orgiele/8.embed\" height=\"525px\" width=\"100%\"></iframe>"
      ],
      "text/plain": [
       "<plotly.tools.PlotlyDisplay object>"
      ]
     },
     "execution_count": 12,
     "metadata": {},
     "output_type": "execute_result"
    }
   ],
   "source": [
    "distance = pd.concat([pd.read_json('file:data/14-05/busDistance-night.json'),\n",
    "                     pd.read_json('file:data/14-05/busDistance-day.json'),\n",
    "                     pd.read_json('file:data/15-05/busDistance-day.json')])\n",
    "\n",
    "distanceList = [x/1000 for x in distance[0].tolist()]\n",
    "\n",
    "index = ['14.05.2017 - noc', '14.05.2017 - dzień (weekend)', '15.05.2017 - dzień']\n",
    "trace1 = go.Bar(\n",
    "        x = index,\n",
    "        y = distanceList,\n",
    "        name = \"Pokonany dystans\"\n",
    "    )\n",
    "layout = go.Layout(\n",
    "    title='Całkowity dystans w kilometrach pokonany przez autobusy w zależności od dnia',\n",
    "    barmode='group',\n",
    "    xaxis=dict(\n",
    "        title='Dzień'\n",
    "    ),\n",
    "    yaxis=dict(\n",
    "        title='Dystans [km]'\n",
    "    )\n",
    ")\n",
    "\n",
    "data = [trace1]\n",
    "\n",
    "fig = go.Figure(data = data, layout = layout)\n",
    "py.iplot(fig, filename='basic')"
   ]
  },
  {
   "cell_type": "markdown",
   "metadata": {},
   "source": [
    "<center> Rysunek x: Wykres pokonanego dystansu przez autobusy w zależności od dnia </center>"
   ]
  },
  {
   "cell_type": "code",
   "execution_count": 29,
   "metadata": {
    "collapsed": false
   },
   "outputs": [
    {
     "data": {
      "text/html": [
       "<table border=\"1\" class=\"dataframe table\">\n",
       "  <thead>\n",
       "    <tr style=\"text-align: right;\">\n",
       "      <th>Dzień</th>\n",
       "      <th>Dystans [km]</th>\n",
       "    </tr>\n",
       "  </thead>\n",
       "  <tbody>\n",
       "    <tr>\n",
       "      <td>14.05.2017 - noc</td>\n",
       "      <td>49676</td>\n",
       "    </tr>\n",
       "    <tr>\n",
       "      <td>14.05.2017 - dzień (weekend)</td>\n",
       "      <td>134409</td>\n",
       "    </tr>\n",
       "    <tr>\n",
       "      <td>15.05.2017 - dzień</td>\n",
       "      <td>337064</td>\n",
       "    </tr>\n",
       "  </tbody>\n",
       "</table>"
      ],
      "text/plain": [
       "<IPython.core.display.HTML object>"
      ]
     },
     "execution_count": 29,
     "metadata": {},
     "output_type": "execute_result"
    }
   ],
   "source": [
    "distance = pd.DataFrame({'Dzień':index, 'Dystans [km]':[round(dist) for dist in distanceList]}, columns=['Dzień', 'Dystans [km]'])\n",
    "HTML(distance.to_html(classes=['table'], index = False))"
   ]
  },
  {
   "cell_type": "markdown",
   "metadata": {},
   "source": [
    "<center> Tabela x: Całkowity dystans w kilometrach, pokonany przez autobusy w wybrane dni. </center>"
   ]
  },
  {
   "cell_type": "markdown",
   "metadata": {},
   "source": [
    "Jak wcześniej zauważyliśmy, zdecydowanie więcej autobusów kursuje w dni powszednie. To samo możemy zauważyć w powyższej tabeli - dystans pokonany przez autobusy w dzień powszedni jest większy, niż suma dystansów pokonanych przez autobusy w trakcie dnia oraz w nocy, w jeden dzień weekendu. Na podstawie tych danych, możemy dokonać pewnego oszacowania. \n",
    "\n",
    "Wiemy jaki dystans pokonują autobusy. Możemy też, w przybliżeniu, określić średnie spalanie pojazdów. Najpopularniejszy autobus w Warszawie - Solaris Urbino 18 - według różnych doniesień, spala od 40 do 45 litrów na 100 kilometrów. Jest to uznawane za stosunkowo niskie spalanie, biorąc pod uwagę jego rozmiar. Inne modele mają mniejsze spalanie (niektóre w okolicach 30 litrów na 100 kilometrów), a inne większe (nawet do 60l/100km). Ponieważ ciężko znaleźć dokładne, oficjalne dane oraz nie znamy odległości pokonanych przez każdy z modeli, oszacujmy średnią wartość spalania jako 40 litrów na 100 kilometrów. \n",
    "\n",
    "Podobnie nie wiemy, jakie są koszty zakupu paliwa. Ponieważ są to ilości hurtowe (co za chwilę się okaże), możemy założyć, że koszt jest znacznie niższy, niż dla normalnego człowieka na stacji benzynowej. Przyjmijmy 3 złote na litr benzyny. Następnie, dla 15.05.2017, możemy dokonać następujących obliczeń:\n",
    "                    \n",
    "\n",
    "<center>337063 \\* 40/100 = 134825.2 litrów paliwa **dziennie**, co przekłada się na          \n",
    "134825.2 \\* 3 = **404475.6 złotych**</center>\n",
    "\n",
    "Analogicznie dla 14.05.2017 w nocy, jest to 59610 złotych, oraz w dzień 161290.8 złotych dziennie. Oczywiście są to tylko szacunkowe koszty - w powyższych obliczeniach nie braliśmy pod uwagę faktu, że niektóre z autobusów są zasilane elektrycznie, lub jeżdżą na gaz. Zdecydowaną większość stanowią jednak pojazdy benzynowe. Oprócz tego, nie braliśmy pod uwagę innych, dodatkowych kosztów, jak np. serwisowanie pojazdów, czy chociażby pensje dla kierowców. Rzeczywisty koszt utrzymania autobusów miejskich może się różnić, jednak powinien to być ten sam rząd wielkości, co pozwala zobrazować, jak kosztowna jest komunikacja miejska. \n",
    "\n",
    "Obliczony koszt możemy przedstawić jeszcze w inny sposób - najtańszy bilet normalny, 20-minutowy, kosztuje w Warszawie 3.40 złotych. Aby zwrócił się oszacowany koszt utrzymania w dzień powszedni, należy sprzedać conajmniej 118964 takich biletów, w ciągu jednego dnia."
   ]
  },
  {
   "cell_type": "markdown",
   "metadata": {},
   "source": [
    "## Średnia prędkość"
   ]
  },
  {
   "cell_type": "markdown",
   "metadata": {},
   "source": [
    "Na podstawie otrzymanych danych, możemy również określić, w przybliżeniu, średnią prędkość dla każdej z linii. W tym celu, autobusy zostały pogrupowane według numeru linii i brygady. Następnie, dla każdego zidentyfikowanego w ten sposób pojazdu, została policzona prędkość na każdym z odcinków (różnica odległości pomiędzy kolejnymi zarejestrowanymi pozycjami), a z tych prędkości wyciągnięta została średnia. Jest zbyt wiele pojedynczych linii, aby przedstawić prędkość każdej z nich, ale posłużymy się wcześniej zdefiniowanymi grupami linii autobusowych i wyznaczymy średnią prędkość dla każdej grupy."
   ]
  },
  {
   "cell_type": "code",
   "execution_count": 14,
   "metadata": {
    "collapsed": false
   },
   "outputs": [
    {
     "data": {
      "text/html": [
       "<iframe id=\"igraph\" scrolling=\"no\" style=\"border:none;\" seamless=\"seamless\" src=\"https://plot.ly/~orgiele/8.embed\" height=\"525px\" width=\"100%\"></iframe>"
      ],
      "text/plain": [
       "<plotly.tools.PlotlyDisplay object>"
      ]
     },
     "execution_count": 14,
     "metadata": {},
     "output_type": "execute_result"
    }
   ],
   "source": [
    "day14speed = pd.concat([pd.read_json('file:data/14-05/busSpeed-day-grouped.json'),\n",
    "                     pd.read_json('file:data/14-05/busSpeed-night-grouped.json')])\n",
    "\n",
    "day15speed = pd.read_json('file:data/15-05/busSpeed-day-grouped.json')\n",
    "\n",
    "trace1 = go.Bar(\n",
    "        x = day14speed['Type'],\n",
    "        y = day14speed['V'],\n",
    "        name = \"14.05.2017\"\n",
    "    )\n",
    "\n",
    "trace2 = go.Bar(\n",
    "        x = day15speed['Type'],\n",
    "        y = day15speed['V'],\n",
    "        name = \"15.05.2017\"\n",
    "    )\n",
    "\n",
    "layout = go.Layout(\n",
    "    title='Średnia prędkość wybranych linii autobusowych',\n",
    "    barmode='group',\n",
    "    xaxis=dict(\n",
    "        title='Rodzaj linii'\n",
    "    ),\n",
    "    yaxis=dict(\n",
    "        title='Prędkość [km\\h]'\n",
    "    )\n",
    ")\n",
    "\n",
    "data = [trace1, trace2]\n",
    "\n",
    "fig = go.Figure(data = data, layout = layout)\n",
    "py.iplot(fig, filename='basic')"
   ]
  },
  {
   "cell_type": "markdown",
   "metadata": {},
   "source": [
    "<center> Rysunek x: Średnia prędkość wybranych linii autobusowych w zależności od dnia </center>"
   ]
  },
  {
   "cell_type": "code",
   "execution_count": 15,
   "metadata": {
    "collapsed": false
   },
   "outputs": [
    {
     "data": {
      "text/html": [
       "<table border=\"1\" class=\"dataframe table\">\n",
       "  <thead>\n",
       "    <tr style=\"text-align: right;\">\n",
       "      <th>Rodzaj linii</th>\n",
       "      <th>14.05.2017</th>\n",
       "      <th>15.05.2017</th>\n",
       "    </tr>\n",
       "  </thead>\n",
       "  <tbody>\n",
       "    <tr>\n",
       "      <td>Zwykle</td>\n",
       "      <td>26.4748</td>\n",
       "      <td>25.1964</td>\n",
       "    </tr>\n",
       "    <tr>\n",
       "      <td>Strefowe</td>\n",
       "      <td>31.4119</td>\n",
       "      <td>28.7053</td>\n",
       "    </tr>\n",
       "    <tr>\n",
       "      <td>Przyspieszone</td>\n",
       "      <td>27.0149</td>\n",
       "      <td>24.5094</td>\n",
       "    </tr>\n",
       "    <tr>\n",
       "      <td>Przyspieszone okresowe</td>\n",
       "      <td>27.1122</td>\n",
       "      <td>25.1269</td>\n",
       "    </tr>\n",
       "    <tr>\n",
       "      <td>Nocne</td>\n",
       "      <td>30.2197</td>\n",
       "      <td>-</td>\n",
       "    </tr>\n",
       "  </tbody>\n",
       "</table>"
      ],
      "text/plain": [
       "<IPython.core.display.HTML object>"
      ]
     },
     "execution_count": 15,
     "metadata": {},
     "output_type": "execute_result"
    }
   ],
   "source": [
    "day15speedModified = pd.concat([day15speed, pd.DataFrame({'Type':'Nocne', 'V':'-'}, index = [0])])\n",
    "\n",
    "speed =  pd.DataFrame({ 'Rodzaj linii':day14speed['Type'], '14.05.2017':day14speed['V'],\n",
    "                      '15.05.2017':day15speedModified['V']}, columns=['Rodzaj linii', '14.05.2017', '15.05.2017'])\n",
    "HTML(speed.to_html(classes=['table'], index=False))"
   ]
  },
  {
   "cell_type": "markdown",
   "metadata": {},
   "source": [
    "<center>Tabela x: Średnia prędkość wybranych linii autobusowych w zależności od dnia </center>"
   ]
  },
  {
   "cell_type": "markdown",
   "metadata": {},
   "source": [
    "Łatwo można zauważyć, że średnie prędkości w weekend są wyższe niż w dzień. Podobnie w nocy możemy się spodziewać większej średniej prędkości. Nie powinno to zaskakiwać, ponieważ w dni powszednie ruch na ulicach jest dużo większy, co powoduje, że autobusy stoją w korkach, przez co często się spóźniają. Tak samo wygląda sytuacja, jeśli chodzi o autobusy strefowe, które poruszają się głównie z dala od centrum Warszawy, oraz po okolicznych miejscowościach, gdzie ruch jest mniejszy. Co ciekawe, autobusy przyspieszone nie muszą jeździć szyciej niż autobusy zwykłe. Oczywiście nasze obliczenia są w pewnym stopniu nie dokładne i mogły wystąpić pewne błędy, ale różnica między prędkościami tych linii nie jest duża. Autobusy przyspieszone nie zatrzymują się na niektórych przystankach, ale przy wzmożonym ruchu również będą stać w korkach, co może spowodować wyrównanie tych prędkości."
   ]
  }
 ],
 "metadata": {
  "kernelspec": {
   "display_name": "Python 3",
   "language": "python",
   "name": "python3"
  },
  "language_info": {
   "codemirror_mode": {
    "name": "ipython",
    "version": 3
   },
   "file_extension": ".py",
   "mimetype": "text/x-python",
   "name": "python",
   "nbconvert_exporter": "python",
   "pygments_lexer": "ipython3",
   "version": "3.6.0"
  }
 },
 "nbformat": 4,
 "nbformat_minor": 2
}
