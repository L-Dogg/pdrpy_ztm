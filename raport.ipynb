{
 "cells": [
  {
   "cell_type": "markdown",
   "metadata": {},
   "source": [
    "# Przetwarzanie danych w językach R i Python - praca domowa 4"
   ]
  },
  {
   "cell_type": "markdown",
   "metadata": {},
   "source": [
    "*Szymon Adach *           \n",
    "*Jacek Dziwulski*\n",
    "\n",
    "24 maj 2017"
   ]
  },
  {
   "cell_type": "code",
   "execution_count": 31,
   "metadata": {
    "collapsed": true
   },
   "outputs": [],
   "source": [
    "import plotly.plotly as py\n",
    "import plotly.graph_objs as go\n",
    "import pandas as pd\n",
    "py.sign_in('orgiele', '0hLF1CVCaH5sEU0CG9Ah')"
   ]
  },
  {
   "cell_type": "markdown",
   "metadata": {},
   "source": [
    "# Wstęp"
   ]
  },
  {
   "cell_type": "markdown",
   "metadata": {
    "collapsed": true
   },
   "source": [
    "Zadanie polegało na zebraniu danych, dostępnych poprzed odpowiednie endpointy, których szczegóły można znaleźć na stronie https://api.um.warszawa.pl/. Dane te dotyczą ruchu tramwajów oraz autobusów w Warszawie. Do zbierania tych danych, utworzony został specjalny skrypt w języku Python, który co wyznaczony czas pobierał dane z API, oraz zapisywał je do pliku. Jego implementacja znajduje się poniżej.\n",
    "\n",
    "```\n",
    "import time\n",
    "import helpers\n",
    "from Lines import VehicleType\n",
    "import datetime\n",
    "import os\n",
    "\n",
    "TIMEOUT = 10.0  # Sixty seconds\n",
    "\n",
    "MEGABYTE = 1024 * 1024\n",
    "MAX_FILE_SIZE = 2 * 4096 * MEGABYTE #8GB\n",
    "\n",
    "bus_file_name = \"buses3.json\"\n",
    "tram_file_name = \"trams3.json\"\n",
    "\n",
    "def saveJsonToFile(tramfile, busfile):\n",
    "    starttime = time.time()\n",
    "    tramfile.write(\"{\\n\\\"results\\\": [\")\n",
    "    busfile.write(\"{\\n\\\"results\\\": [\")\n",
    "\n",
    "    bus_file_size = 0\n",
    "    tram_file_size = 0\n",
    "\n",
    "    while bus_file_size < MAX_FILE_SIZE and tram_file_size < MAX_FILE_SIZE:\n",
    "        try:\n",
    "            result = helpers.get_active_vehicles(VehicleType.Bus).strip().strip('[').strip(']')\n",
    "            busfile.write(\"{},\\n\".format(result))\n",
    "\n",
    "            result = helpers.get_active_vehicles(VehicleType.Tram).strip().strip('[').strip(']')\n",
    "            tramfile.write(\"{},\\n\".format(result))\n",
    "\n",
    "            print(\"Saved another chunk to file\")\n",
    "            time.sleep(TIMEOUT - ((time.time() - starttime) % TIMEOUT))\n",
    "\n",
    "            bus_file_size = os.stat(bus_file_name).st_size\n",
    "            tram_file_size = os.stat(tram_file_name).st_size\n",
    "        except KeyboardInterrupt:\n",
    "            tramfile.write(\"\\n ]}\")\n",
    "            busfile.write(\"\\n ]}\")\n",
    "            return\n",
    "\n",
    "\n",
    "if __name__ == \"__main__\":\n",
    "    print(\"Starting bot.\")\n",
    "    today_string = datetime.datetime.now().strftime('%x')\n",
    "    with open(tram_file_name, \"w\") as tram_output, open(bus_file_name, \"w\") as bus_output:\n",
    "        saveJsonToFile(tram_output, bus_output)\n",
    "\n",
    "```\n",
    "\n",
    "Dodatkowo, należało skorzystać z historycznych danych udostępnionych przez prowadzącego, z 21, 22 oraz 23 marca 2016 roku. Te dane dotyczyły wyłącznie tramwajów, ponieważ dane dotyczące autobusów mogły jeszcze nie być dostępne.\n",
    "\n",
    "Na podstawie tych danych, należało dojść do interesujących wyników, ze szczególnym uwzględnieniem przedstawienia zebranych danych w postaci map. Duża część wstępnej obróbki danych została wykonana w języku R. Niektóre z wykresów również zostały wykonane w R, ponieważ wykorzystywana biblioteka do rysowania wykresów w Pythonie miała problem z dużą ilością danych.\n",
    "\n",
    "Główną część analizy stanowią mapy, na których przedstawiony został ruch pojazdów w zależności od różnych czynników. Dodatkowo, w przypadku tramwajów, oszacowany został średni czas dojazdu do centrum Warszawy z wybranych dzielnic, a następnie został on porównany z wartościami podanymi przez ZTM. Dla autobusów, obliczony został całkowity dystans pokonany przez pojazdy w ciągu wybranych okresów czasu, co pozwoliło na oszacowanie kosztów utrzymania komunikacji miejskiej."
   ]
  },
  {
   "cell_type": "markdown",
   "metadata": {},
   "source": [
    "# Tramwaje"
   ]
  },
  {
   "cell_type": "markdown",
   "metadata": {
    "collapsed": true
   },
   "source": [
    "Do analizy ruchu tramwajów w Warszawie wykorzystano dane zebrane przez naszego bota w niedzielę 14. maja oraz poniedziałek 15. maja. Wybrano te dwa dni, aby możliwe było sprawdzenie różnic w kursowaniu tramwajów w weekend oraz dzień powszedni. Ponadto analizie poddano dane z dwóch dni marca 2016 roku, dostarczone przez prowadzącego.\n",
    "\n",
    "Dane zbierane były z dwóch endpointów API udostępnianego przez ZTM. Zaletą pierwszego endpointu był kilkukrotnie mniejszy czas między aktualizacją danych o położeniu, z kolei drugi posiadał informację logiczną o tym, czy dany tramwaj jest niskopodłogowy.\n",
    "\n",
    "Dane po pobraniu zostały poddane obróbce, która usunęła z ramek danych pojazdy o  niepoprawnej geolokacji lub błędnej dacie."
   ]
  },
  {
   "cell_type": "markdown",
   "metadata": {},
   "source": [
    "# Autobusy"
   ]
  },
  {
   "cell_type": "markdown",
   "metadata": {},
   "source": [
    "Zebrane dane na temat ruchu autobusów pochodzą z 14 (noc i dzień) oraz 15 maja 2017 roku. Dostępne informacje \n",
    "dotyczące autobusów to:\n",
    "\n",
    "* położenie geograficzne\n",
    "* czas, w którym zarejestrowano daną pozycję\n",
    "* numer linii\n",
    "* numer brygady\n",
    "\n",
    "Na podstawie numeru linii i brygady można jednoznacznie zidentyfikować dany autobus - w danym momencie porusza się tylko jeden autobus konkretnej linii z danym symbolem brygady. \n",
    "\n",
    "Autobusy możemy podzielić na pewne kategorie, które później posłużą do analizy ich ruchu. Te kategorie to:\n",
    "\n",
    "* linie zwykłe (102 - 262)\n",
    "* linie zwykłe okresowe (300 - 397)\n",
    "* linie przyspieszone (500 - 527)\n",
    "* linie przyspieszone okresowe (401 - 414)\n",
    "* linie strefowe (700 - 743)\n",
    "* linie strefowe uzupełniające (L-1 - L40)\n",
    "* linie strefowe okresowe (800)\n",
    "* linie ekspresowe (E-1 - E-9)\n",
    "* linie nocne (N01 - N95)\n",
    "* linie specjalne (900)\n",
    "\n",
    "Dane otrzymane z API zostały wstępnie przefiltrowane, aby odrzucić różne błędy (jak np. zła pozycja pojazdu, lub nie poprawna data). Następnie zostały pogrupowane według powyższych kategorii. Dodatkowo, osobno pogrupowane zostały dane dla każdego konkretnego pojazdu (identyfikowanego przez parę numer linii, symbol brygady). Pozwoli to na wyznaczenie dystansu pokonywanego przez autobusy w wybranem okresie czasu, a także na wyznaczenie średniej prędkości każdej linii.\n",
    " \n",
    "Pozycje autobusów z każdej z powyższych grup możemy przedstawić na mapie, która pokaże jaki obszar pokrywają. Na początek rozważmy zdecydowanie najliczniejszą grupę - linie zwykłe.\n",
    "\n",
    "## Linie zwykłe\n",
    "\n",
    "<img src=\"data\\14-05\\buses-normal14-filtered.png\"/>\n",
    "\n",
    "<center style=\"padding-top:10px\">Rysunek x: Trasa przebyta przez autobusy zwykłe 14 maja 2017 roku.</center>\n",
    "\n",
    "<img src=\"data\\15-05\\buses-normal15-filtered.png\"/>\n",
    "\n",
    "<center style=\"padding-top:10px\">Rysunek x: Trasa przebyta przez autobusy zwykłe 15 maja 2017 roku.</center>"
   ]
  },
  {
   "cell_type": "code",
   "execution_count": 78,
   "metadata": {
    "collapsed": false
   },
   "outputs": [
    {
     "data": {
      "text/html": [
       "<table border=\"1\" class=\"dataframe table\">\n",
       "  <thead>\n",
       "    <tr style=\"text-align: right;\">\n",
       "      <th>Dzień</th>\n",
       "      <th>Liczba autobusów</th>\n",
       "    </tr>\n",
       "  </thead>\n",
       "  <tbody>\n",
       "    <tr>\n",
       "      <td>14.05.2017</td>\n",
       "      <td>566</td>\n",
       "    </tr>\n",
       "    <tr>\n",
       "      <td>15.05.2017</td>\n",
       "      <td>935</td>\n",
       "    </tr>\n",
       "  </tbody>\n",
       "</table>"
      ],
      "text/plain": [
       "<IPython.core.display.HTML object>"
      ]
     },
     "execution_count": 78,
     "metadata": {},
     "output_type": "execute_result"
    }
   ],
   "source": [
    "distance = pd.concat([pd.read_json('file:data/14-05/busesNormalCount.json'), \n",
    "                      pd.read_json('file:data/15-05/busesNormalCount.json')])[0].tolist()\n",
    "distance = pd.DataFrame({'Dzień':['14.05.2017', '15.05.2017'], 'Liczba autobusów':distance}, \n",
    "                        columns=['Dzień', 'Liczba autobusów'])\n",
    "HTML(distance.to_html(classes=['table'], index = False))"
   ]
  },
  {
   "cell_type": "markdown",
   "metadata": {},
   "source": [
    "<center style=\"padding-top:10px\">Tabela x: Liczba autobusów linii zwykłych w ruchu w wybranych dniach. </center>"
   ]
  },
  {
   "cell_type": "markdown",
   "metadata": {},
   "source": [
    "Pokonane trasy wyglądają bardzo podobnie. Warto zwrócić uwagę na jeden istotny fakt - 14 maj to niedziela, natomast 15 maj to poniedziałek. Na powyższych mapach można zauważyć, że niektóre linie nie kursują w weekendy, lub mają zmienioną trasę. Na przykład, na mapie z 15 maja możemy zaobserwować żółtą linię w okolicach Zielonki (prawy górny róg mapy), której nie ma na mapie z 14 maja. Podobnie w okolicach Bielawy (prawy dolny róg mapy), pojawia się zielona linia, której nie było w weekend.\n",
    "Ponadto, warto zauważyć, że wiekszość tych linii jeździ w Warszawie i jej centrum, a tylko nieliczne kursują do miast należących do aglomeracji warszawskiej. To samo widać w zamieszczonej tabeli - zdecydowanie więcej autobusów kursuje w dzień powszedni niż w weekend."
   ]
  },
  {
   "cell_type": "markdown",
   "metadata": {},
   "source": [
    "Następnie sprawdźmy, po jakich obszarach jeżdżą autobusy strefowe, które w przeciwieństwie do zwykłych, powinny częściej kursować do okolicznych miejscowości.\n",
    "\n",
    "## Linie strefowe\n",
    "\n",
    "<img src=\"data\\14-05\\buses-zone14-filtered.png\"/>\n",
    "\n",
    "<center style=\"padding-top:10px\">Rysunek x: Trasa przebyta przez autobusy strefowe 14 maja 2017 roku.</center>\n",
    "\n",
    "<img src=\"data\\15-05\\buses-zone15-filtered.png\"/>\n",
    "\n",
    "<center style=\"padding-top:10px\">Rysunek x: Trasa przebyta przez autobusy strefowe 15 maja 2017 roku.</center>"
   ]
  },
  {
   "cell_type": "code",
   "execution_count": 76,
   "metadata": {
    "collapsed": false
   },
   "outputs": [
    {
     "data": {
      "text/html": [
       "<table border=\"1\" class=\"dataframe table\">\n",
       "  <thead>\n",
       "    <tr style=\"text-align: right;\">\n",
       "      <th>Dzień</th>\n",
       "      <th>Liczba autobusów</th>\n",
       "    </tr>\n",
       "  </thead>\n",
       "  <tbody>\n",
       "    <tr>\n",
       "      <td>14.05.2017</td>\n",
       "      <td>88</td>\n",
       "    </tr>\n",
       "    <tr>\n",
       "      <td>15.05.2017</td>\n",
       "      <td>152</td>\n",
       "    </tr>\n",
       "  </tbody>\n",
       "</table>"
      ],
      "text/plain": [
       "<IPython.core.display.HTML object>"
      ]
     },
     "execution_count": 76,
     "metadata": {},
     "output_type": "execute_result"
    }
   ],
   "source": [
    "distance = pd.concat([pd.read_json('file:data/14-05/busesZoneCount.json'), \n",
    "                      pd.read_json('file:data/15-05/busesZoneCount.json')])[0].tolist()\n",
    "distance = pd.DataFrame({'Dzień':['14.05.2017', '15.05.2017'], 'Liczba autobusów':distance}, \n",
    "                        columns=['Dzień', 'Liczba autobusów'])\n",
    "HTML(distance.to_html(classes=['table'], index = False))"
   ]
  },
  {
   "cell_type": "markdown",
   "metadata": {},
   "source": [
    "<center style=\"padding-top:10px\">Tabela x: Liczba autobusów linii strefowych w ruchu w wybranych dniach. </center>"
   ]
  },
  {
   "cell_type": "markdown",
   "metadata": {},
   "source": [
    "Tak jak przewidywaliśmy, autobusy strefowe raczej nie kursują w centrum Warszawy. Ich głównym zadaniem jest przywożenie \n",
    "i odwożenie ludzi z okolicznych miejscowości do Warszawy, a żeby dotrzeć do dokładniejszego celu należy się przesiadać. Podobnie jak w przypadku linii zwykłych, więcej autobusów kursuje w dni powszednie."
   ]
  },
  {
   "cell_type": "markdown",
   "metadata": {},
   "source": [
    "## Linie przyspieszone\n",
    "\n",
    "<img src=\"data\\14-05\\buses-fast14-filtered.png\"/>\n",
    "\n",
    "<center> Rysunek x: Trasa przebyta przez autobusy przespieszone 14 maja 2017 roku. </center>\n",
    "\n",
    "<img src=\"data\\15-05\\buses-fast15-filtered.png\"/>\n",
    "\n",
    "<center> Rysunek x: Trasa przebyta przez autobusy przespieszone 15 maja 2017 roku. </center>"
   ]
  },
  {
   "cell_type": "code",
   "execution_count": 75,
   "metadata": {
    "collapsed": false
   },
   "outputs": [
    {
     "data": {
      "text/html": [
       "<table border=\"1\" class=\"dataframe table\">\n",
       "  <thead>\n",
       "    <tr style=\"text-align: right;\">\n",
       "      <th>Dzień</th>\n",
       "      <th>Liczba autobusów</th>\n",
       "    </tr>\n",
       "  </thead>\n",
       "  <tbody>\n",
       "    <tr>\n",
       "      <td>14.05.2017</td>\n",
       "      <td>142</td>\n",
       "    </tr>\n",
       "    <tr>\n",
       "      <td>15.05.2017</td>\n",
       "      <td>274</td>\n",
       "    </tr>\n",
       "  </tbody>\n",
       "</table>"
      ],
      "text/plain": [
       "<IPython.core.display.HTML object>"
      ]
     },
     "execution_count": 75,
     "metadata": {},
     "output_type": "execute_result"
    }
   ],
   "source": [
    "distance = pd.concat([pd.read_json('file:data/14-05/busesFastCount.json'), \n",
    "                      pd.read_json('file:data/15-05/busesFastCount.json')])[0].tolist()\n",
    "distance = pd.DataFrame({'Dzień':['14.05.2017', '15.05.2017'], 'Liczba autobusów':distance}, \n",
    "                        columns=['Dzień', 'Liczba autobusów'])\n",
    "HTML(distance.to_html(classes=['table'], index = False))"
   ]
  },
  {
   "cell_type": "markdown",
   "metadata": {},
   "source": [
    "<center>Tabela x: Liczba autobusów linii przyspieszonych w ruchu w wybranych dniach. </center>"
   ]
  },
  {
   "cell_type": "markdown",
   "metadata": {},
   "source": [
    "Podobnie jak w przypadku linii zwykłych, można zauważyć linie, które nie kursowały w weekend, lub miały zmienioną trasę. Warto zwrócić uwagę na długość tras pokonywanych przez pojedyncze autobusy. Kursują one po liniach zdecydowanie dłuższych niż autobusy zwykłe, dlatego muszą jeździć szybciej, co można osiągnąć na przykład przez mniejsze zagęszczenie przystanków na trasie autobusu."
   ]
  },
  {
   "cell_type": "markdown",
   "metadata": {},
   "source": [
    "## Linie przyspieszone okresowe"
   ]
  },
  {
   "cell_type": "markdown",
   "metadata": {},
   "source": [
    "<img src=\"data\\14-05\\buses-fast-periodic14-filtered.png\" />\n",
    "\n",
    "<center style=\"padding-top:10px\"> Rysunek x: Trasa przebyta przez autobusy przespieszone okresowe 14 maja 2017 roku. </center>\n",
    "\n",
    "<img src=\"data\\15-05\\buses-fast-periodic15-filtered.png\" />\n",
    "\n",
    "<center style=\"padding-top:10px\"> Rysunek x: Trasa przebyta przez autobusy przespieszone okresowe 15 maja 2017 roku. </center>"
   ]
  },
  {
   "cell_type": "code",
   "execution_count": 74,
   "metadata": {
    "collapsed": false
   },
   "outputs": [
    {
     "data": {
      "text/html": [
       "<table border=\"1\" class=\"dataframe table\">\n",
       "  <thead>\n",
       "    <tr style=\"text-align: right;\">\n",
       "      <th>Dzień</th>\n",
       "      <th>Liczba autobusów</th>\n",
       "    </tr>\n",
       "  </thead>\n",
       "  <tbody>\n",
       "    <tr>\n",
       "      <td>14.05.2017</td>\n",
       "      <td>10</td>\n",
       "    </tr>\n",
       "    <tr>\n",
       "      <td>15.05.2017</td>\n",
       "      <td>75</td>\n",
       "    </tr>\n",
       "  </tbody>\n",
       "</table>"
      ],
      "text/plain": [
       "<IPython.core.display.HTML object>"
      ]
     },
     "execution_count": 74,
     "metadata": {},
     "output_type": "execute_result"
    }
   ],
   "source": [
    "distance = pd.concat([pd.read_json('file:data/14-05/busesFastPeriodicCount.json'), \n",
    "                      pd.read_json('file:data/15-05/busesFastPeriodicCount.json')])[0].tolist()\n",
    "distance = pd.DataFrame({'Dzień':['14.05.2017', '15.05.2017'], 'Liczba autobusów':distance}, \n",
    "                        columns=['Dzień', 'Liczba autobusów'])\n",
    "HTML(distance.to_html(classes=['table'], index = False))"
   ]
  },
  {
   "cell_type": "markdown",
   "metadata": {},
   "source": [
    "<center style=\"padding-top:10px\">Tabela x: Liczba autobusów linii przyspieszonych okresowych w ruchu w wybranych dniach. </center>"
   ]
  },
  {
   "cell_type": "markdown",
   "metadata": {},
   "source": [
    "Podobnie jak autobusy przyspieszone, autobusy przyspieszone okresowe również kursują po dłuższych trasach. Tych linii jest jednak zdecydowanie mniej, zwłaszcza w weekend, kiedy to przez cały dzień, kursowało zaledwie 10 autobusów jednej linii."
   ]
  },
  {
   "cell_type": "markdown",
   "metadata": {},
   "source": [
    "## Linie nocne"
   ]
  },
  {
   "cell_type": "markdown",
   "metadata": {},
   "source": [
    "<img src=\"data\\14-05\\buses-night14-filtered.png\" />\n",
    "\n",
    "<center style=\"padding-top:10px\">Rysunek x: Trasa przebyta przez autobusy nocne 14 maja 2017 roku. </center>"
   ]
  },
  {
   "cell_type": "code",
   "execution_count": 72,
   "metadata": {
    "collapsed": false
   },
   "outputs": [
    {
     "data": {
      "text/html": [
       "<table border=\"1\" class=\"dataframe table\">\n",
       "  <thead>\n",
       "    <tr style=\"text-align: right;\">\n",
       "      <th>Dzień</th>\n",
       "      <th>Liczba autobusów</th>\n",
       "    </tr>\n",
       "  </thead>\n",
       "  <tbody>\n",
       "    <tr>\n",
       "      <td>14.05.2017</td>\n",
       "      <td>151</td>\n",
       "    </tr>\n",
       "  </tbody>\n",
       "</table>"
      ],
      "text/plain": [
       "<IPython.core.display.HTML object>"
      ]
     },
     "execution_count": 72,
     "metadata": {},
     "output_type": "execute_result"
    }
   ],
   "source": [
    "distance = pd.read_json('file:data/14-05/busesNightCount.json')[0].tolist()\n",
    "distance = pd.DataFrame({'Dzień':'14.05.2017', 'Liczba autobusów':distance}, columns=['Dzień', 'Liczba autobusów'])\n",
    "HTML(distance.to_html(classes=['table'], index = False))"
   ]
  },
  {
   "cell_type": "markdown",
   "metadata": {},
   "source": [
    "<center style=\"padding-top:10px\">Tabela x: Liczba autobusów linii nocnych w ruchu w wybranych dniach. </center>"
   ]
  },
  {
   "cell_type": "markdown",
   "metadata": {},
   "source": [
    "Autobusy nocne również pokonują długie trasy, ale kursują rzadziej niż zwykłe. Warto zauważyć, że większość z tych linii przejeżdża przez centrum Warszawy, oraz kończy swoją trasę w okolicznych miejscowościach. Oczywiście w tym przypadku krótkie trasy nie mają sensu. W nocy komunikacją miejską porusza się zdecydowanie mniej osób, więc nie trzeba tworzyć krótkich tras, kursujących często, aby zabrać wszystkich zainteresowanych. Zazwyczaj, autobusy tych linii zabierają mniej ludzi na pojedynczych przystankach, ale pokrywają zdecydowanie większy obszar od autobusów dziennych."
   ]
  },
  {
   "cell_type": "markdown",
   "metadata": {},
   "source": [
    "## Pokonany dystans"
   ]
  },
  {
   "cell_type": "code",
   "execution_count": 54,
   "metadata": {
    "collapsed": false
   },
   "outputs": [
    {
     "data": {
      "text/html": [
       "<iframe id=\"igraph\" scrolling=\"no\" style=\"border:none;\" seamless=\"seamless\" src=\"https://plot.ly/~orgiele/8.embed\" height=\"525px\" width=\"100%\"></iframe>"
      ],
      "text/plain": [
       "<plotly.tools.PlotlyDisplay object>"
      ]
     },
     "execution_count": 54,
     "metadata": {},
     "output_type": "execute_result"
    }
   ],
   "source": [
    "distance = pd.concat([pd.read_json('file:data/14-05/busDistance-night.json'),\n",
    "                     pd.read_json('file:data/14-05/busDistance-day.json'),\n",
    "                     pd.read_json('file:data/15-05/busDistance-day.json')])\n",
    "\n",
    "distanceList = [x/1000 for x in distance[0].tolist()]\n",
    "\n",
    "index = ['14.05.2017 - noc', '14.05.2017 - dzień', '15.05.2017 - dzień']\n",
    "trace1 = go.Bar(\n",
    "        x = index,\n",
    "        y = distanceList,\n",
    "        name = \"Pokonany dystans\"\n",
    "    )\n",
    "layout = go.Layout(\n",
    "    title='Całkowity dystans w kilometrach pokonany przez autobusy w zależności od dnia',\n",
    "    barmode='group',\n",
    "    xaxis=dict(\n",
    "        title='Dzień'\n",
    "    ),\n",
    "    yaxis=dict(\n",
    "        title='Dystans [km]'\n",
    "    )\n",
    ")\n",
    "\n",
    "data = [trace1]\n",
    "\n",
    "fig = go.Figure(data = data, layout = layout)\n",
    "py.iplot(fig, filename='basic')"
   ]
  },
  {
   "cell_type": "markdown",
   "metadata": {},
   "source": [
    "<center> Rysunek x: Wykres pokonanego dystansu przez autobusy w zależności od dnia </center>"
   ]
  },
  {
   "cell_type": "code",
   "execution_count": 70,
   "metadata": {
    "collapsed": false
   },
   "outputs": [
    {
     "data": {
      "text/html": [
       "<table border=\"1\" class=\"dataframe table\">\n",
       "  <thead>\n",
       "    <tr style=\"text-align: right;\">\n",
       "      <th>Dzień</th>\n",
       "      <th>Dystans [km]</th>\n",
       "    </tr>\n",
       "  </thead>\n",
       "  <tbody>\n",
       "    <tr>\n",
       "      <td>14.05.2017 - noc</td>\n",
       "      <td>49675.654433</td>\n",
       "    </tr>\n",
       "    <tr>\n",
       "      <td>14.05.2017 - dzień</td>\n",
       "      <td>134409.442780</td>\n",
       "    </tr>\n",
       "    <tr>\n",
       "      <td>15.05.2017 - dzień</td>\n",
       "      <td>337063.990168</td>\n",
       "    </tr>\n",
       "  </tbody>\n",
       "</table>"
      ],
      "text/plain": [
       "<IPython.core.display.HTML object>"
      ]
     },
     "execution_count": 70,
     "metadata": {},
     "output_type": "execute_result"
    }
   ],
   "source": [
    "distance = pd.DataFrame({'Dzień':index, 'Dystans [km]':distanceList}, columns=['Dzień', 'Dystans [km]'])\n",
    "HTML(distance.to_html(classes=['table'], index = False))"
   ]
  },
  {
   "cell_type": "markdown",
   "metadata": {},
   "source": [
    "<center> Tabela x: Całkowity dystans w kilometrach, pokonany przez autobusy w wybrane dni. </center>"
   ]
  },
  {
   "cell_type": "markdown",
   "metadata": {},
   "source": [
    "Jak wcześniej zauważyliśmy, zdecydowanie więcej autobusów kursuje w dni powszednie. To samo możemy zauważyć w powyższej tabeli - dystans pokonany przez autobusy w dzień powszedni jest większy, niż suma dystansów pokonanych przez autobusy w trakcie dnia oraz w nocy, w jeden dzień weekendu. Na podstawie tych danych, możemy dokonać pewnego oszacowania. \n",
    "\n",
    "Wiemy jaki dystans pokonują autobusy. Możemy też, w przybliżeniu, określić średnie spalanie pojazdów. Najpopularniejszy autobus w Warszawie - Solaris Urbino 18 - według różnych doniesień, spala od 40 do 45 litrów na 100 kilometrów. Jest to uznawane za stosunkowo niskie spalanie, biorąc pod uwagę jego rozmiar. Inne modele mają mniejsze spalanie (niektóre w okolicach 30 litrów na 100 kilometrów), a inne większe (nawet do 60l/100km). Ponieważ ciężko znaleźć dokładne, oficjalne dane, oraz nie znamy odległości pokonanych przez każdy z modeli, oszacujmy średnią wartość spalania jako 40 litrów na 100 kilometrów. \n",
    "\n",
    "Podobnie nie wiemy, jakie są koszty zakupu paliwa. Ponieważ są to ilości hurtowe (co za chwilę się okaże), możemy założyć, że koszt jest znacznie niższy, niż dla normalnego człowieka na stacji benzynowej. Przyjmijmy 3 złote na litr benzyny. Następnie, dla 15.05.2017, możemy dokonać następujących obliczeń:\n",
    "                    \n",
    "\n",
    "<center>337063 \\* 40/100 = 134825.2 litrów paliwa **dziennie**, co przekłada się na          \n",
    "134825.2 \\* 3 = **404475.6 złotych**</center>\n",
    "\n",
    "Analogicznie dla 14.05.2017 w nocy, jest to 59610 złotych, oraz w dzień 161290.8 złotych dziennie. Oczywiście są to tylko szacunkowe koszty - w powyższych obliczeniach nie braliśmy pod uwagę faktu, że niektóre z autobusów są zasilane elektrycznie, lub jeżdżą na gaz. Zdecydowaną większość stanowią jednak pojazdy benzynowe. Oprócz tego, nie braliśmy pod uwagę innych, dodatkowych kosztów, jak np. serwisowanie pojazdów, czy chociażby pensje dla kierowców. Rzeczywisty koszt utrzymania autobusów miejskich może się różnić, jednak powinien to być ten sam rząd wielkości, co pozwala zobrazować, jak kosztowna jest komunikacja miejska. \n",
    "\n",
    "Obliczony koszt możemy przedstawić jeszcze w inny sposób - najtańszy bilet normalny, 20-minutowy, kosztuje w Warszawie 3.40 złotych. Aby zwrócił się oszacowany koszt utrzymania w dzień powszedni, należy sprzedać conajmniej 118964 takich biletów, w ciągu jednego dnia."
   ]
  },
  {
   "cell_type": "markdown",
   "metadata": {},
   "source": [
    "## Średnia prędkość"
   ]
  },
  {
   "cell_type": "markdown",
   "metadata": {},
   "source": [
    "Na podstawie otrzymanych danych, możemy również określić, w przybliżeniu, średnią prędkość dla każdej z linii. W tym celu, autobusy zostały pogrupowane według numeru linii i brygady. Następnie, dla każdego zidentyfikowanego w ten sposób pojazdu, została policzona prędkość na każdym z odcinków (różnica odległości pomiędzy kolejnymi zarejestrowanymi pozycjami), a z tych prędkości wyciągnięta została średnia. Jest zbyt wiele pojedynczych linii, aby przedstawić prędkość każdej z nich, ale posłużymy się wcześniej zdefiniowanymi grupami linii autobusowych i wyznaczymy średnią prędkość dla każdej grupy."
   ]
  },
  {
   "cell_type": "code",
   "execution_count": 118,
   "metadata": {
    "collapsed": false
   },
   "outputs": [
    {
     "data": {
      "text/html": [
       "<iframe id=\"igraph\" scrolling=\"no\" style=\"border:none;\" seamless=\"seamless\" src=\"https://plot.ly/~orgiele/8.embed\" height=\"525px\" width=\"100%\"></iframe>"
      ],
      "text/plain": [
       "<plotly.tools.PlotlyDisplay object>"
      ]
     },
     "execution_count": 118,
     "metadata": {},
     "output_type": "execute_result"
    }
   ],
   "source": [
    "day14speed = pd.concat([pd.read_json('file:data/14-05/busSpeed-day-grouped.json'),\n",
    "                     pd.read_json('file:data/14-05/busSpeed-night-grouped.json')])\n",
    "\n",
    "day15speed = pd.read_json('file:data/15-05/busSpeed-day-grouped.json')\n",
    "\n",
    "trace1 = go.Bar(\n",
    "        x = day14speed['Type'],\n",
    "        y = day14speed['V'],\n",
    "        name = \"14.05.2017\"\n",
    "    )\n",
    "\n",
    "trace2 = go.Bar(\n",
    "        x = day15speed['Type'],\n",
    "        y = day15speed['V'],\n",
    "        name = \"15.05.2017\"\n",
    "    )\n",
    "\n",
    "layout = go.Layout(\n",
    "    title='Średnia prędkość wybranych linii autobusowych',\n",
    "    barmode='group',\n",
    "    xaxis=dict(\n",
    "        title='Rodzaj linii'\n",
    "    ),\n",
    "    yaxis=dict(\n",
    "        title='Prędkość [km\\h]'\n",
    "    )\n",
    ")\n",
    "\n",
    "data = [trace1, trace2]\n",
    "\n",
    "fig = go.Figure(data = data, layout = layout)\n",
    "py.iplot(fig, filename='basic')"
   ]
  },
  {
   "cell_type": "markdown",
   "metadata": {},
   "source": [
    "<center> Rysunek x: Średnia prędkość wybranych linii autobusowych w zależności od dnia </center>"
   ]
  },
  {
   "cell_type": "code",
   "execution_count": 121,
   "metadata": {
    "collapsed": false
   },
   "outputs": [
    {
     "data": {
      "text/html": [
       "<table border=\"1\" class=\"dataframe table\">\n",
       "  <thead>\n",
       "    <tr style=\"text-align: right;\">\n",
       "      <th>Rodzaj linii</th>\n",
       "      <th>14.05.2017</th>\n",
       "      <th>15.05.2017</th>\n",
       "    </tr>\n",
       "  </thead>\n",
       "  <tbody>\n",
       "    <tr>\n",
       "      <td>Zwykle</td>\n",
       "      <td>26.4748</td>\n",
       "      <td>25.1964</td>\n",
       "    </tr>\n",
       "    <tr>\n",
       "      <td>Strefowe</td>\n",
       "      <td>31.4119</td>\n",
       "      <td>28.7053</td>\n",
       "    </tr>\n",
       "    <tr>\n",
       "      <td>Przyspieszone</td>\n",
       "      <td>27.0149</td>\n",
       "      <td>24.5094</td>\n",
       "    </tr>\n",
       "    <tr>\n",
       "      <td>Przyspieszone okresowe</td>\n",
       "      <td>27.1122</td>\n",
       "      <td>25.1269</td>\n",
       "    </tr>\n",
       "    <tr>\n",
       "      <td>Nocne</td>\n",
       "      <td>30.2197</td>\n",
       "      <td>-</td>\n",
       "    </tr>\n",
       "  </tbody>\n",
       "</table>"
      ],
      "text/plain": [
       "<IPython.core.display.HTML object>"
      ]
     },
     "execution_count": 121,
     "metadata": {},
     "output_type": "execute_result"
    }
   ],
   "source": [
    "day15speedModified = pd.concat([day15speed, pd.DataFrame({'Type':'Nocne', 'V':'-'}, index = [0])])\n",
    "\n",
    "speed =  pd.DataFrame({ 'Rodzaj linii':day14speed['Type'], '14.05.2017':day14speed['V'],\n",
    "                      '15.05.2017':day15speedModified['V']}, columns=['Rodzaj linii', '14.05.2017', '15.05.2017'])\n",
    "HTML(speed.to_html(classes=['table'], index=False))"
   ]
  },
  {
   "cell_type": "markdown",
   "metadata": {},
   "source": [
    "<center>Tabela x: Średnia prędkość wybranych linii autobusowych w zależności od dnia </center>"
   ]
  },
  {
   "cell_type": "markdown",
   "metadata": {},
   "source": [
    "Łatwo można zauważyć, że średnie prędkości w weekend są wyższe niż w dzień. Podobnie w nocy możemy się spodziewać większej średniej prędkości. Nie powinno to zaskakiwać, ponieważ w dni powszednie ruch na ulicach jest dużo większy, co powoduje, że autobusy stoją w korkach, przez co często się spóźniają. Tak samo wygląda sytuacja, jeśli chodzi o autobusy strefowe, które poruszają się głównie z dala od centrum Warszawy, oraz po okolicznych miejscowościach, gdzie ruch jest mniejszy. Co ciekawe, autobusy przyspieszone nie muszą jeździć szyciej niż autobusy zwykłe. Oczywiście nasze obliczenia są w pewnym stopniu nie dokładne i mogły wystąpić pewne błędy, ale różnica między prędkościami tych linii nie jest duża. Autobusy przyspieszone nie zatrzymują się na niektórych przystankach, ale przy wzmożonym ruchu również będą stać w korkach, co może spowodować wyrównanie tych prędkości."
   ]
  }
 ],
 "metadata": {
  "kernelspec": {
   "display_name": "Python 3",
   "language": "python",
   "name": "python3"
  },
  "language_info": {
   "codemirror_mode": {
    "name": "ipython",
    "version": 3
   },
   "file_extension": ".py",
   "mimetype": "text/x-python",
   "name": "python",
   "nbconvert_exporter": "python",
   "pygments_lexer": "ipython3",
   "version": "3.6.0"
  }
 },
 "nbformat": 4,
 "nbformat_minor": 2
}
